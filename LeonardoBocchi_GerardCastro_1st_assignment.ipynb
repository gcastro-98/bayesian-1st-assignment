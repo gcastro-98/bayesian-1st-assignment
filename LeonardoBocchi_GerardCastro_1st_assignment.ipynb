{
 "cells": [
  {
   "cell_type": "markdown",
   "id": "7ffe36ba",
   "metadata": {},
   "source": [
    "\n",
    "#### 1st assignment by:\n",
    "- Leonardo Bocchi: leonardo.bocchi.205@gmail.com\n",
    "- Gerard Castro: gcastrca25@alumnes.ub.edu"
   ]
  },
  {
   "cell_type": "markdown",
   "id": "indoor-catalyst",
   "metadata": {
    "tags": []
   },
   "source": [
    "<h1 style=\"color:blue\"> Bayesian Statistics and Probabilistic Programming</h1>\n",
    "\n",
    "<h1 style=\"color:blue\"> Spring 2023 - Homework 01</h1>\n",
    "\n",
    "<h3 style=\"color:blue\">2023-03-27</h3>"
   ]
  },
  {
   "cell_type": "markdown",
   "id": "occasional-trigger",
   "metadata": {
    "tags": []
   },
   "source": [
    "***\n",
    "###### LaTeX macros\n",
    "$\\def\\prob{P}$\n",
    "$\\def\\argmax{\\operatorname{arg\\,max}}$\n",
    "$\\def\\argmin{\\operatorname{arg\\,min}}$\n",
    "$\\def\\borel{\\operatorname{Borel}}$\n",
    "$\\def\\cE{\\cal E}$\n",
    "$\\def\\cP{\\cal P}$\n",
    "$\\def\\R{\\mathbb{R}}$ \n",
    "$\\def\\N{\\mathbb{N}}$\n",
    "$\\def\\Z{\\mathbb{Z}}$\n",
    "$\\def\\Ee{\\operatorname{E}}$\n",
    "$\\def\\va{\\text{v.a.}}$\n",
    "$\\def\\var{\\operatorname{var}}$\n",
    "$\\def\\cov{\\operatorname{cov}}$\n",
    "$\\def\\cor{\\operatorname{cor}}$\n",
    "$\\def\\binomdist{\\operatorname{Binom}}$\n",
    "$\\def\\berndist{\\operatorname{Ber}}$\n",
    "$\\def\\betabinomdist{\\operatorname{Beta-Binom}}$\n",
    "$\\def\\betadist{\\operatorname{Beta}}$\n",
    "$\\def\\expdist{\\operatorname{Exponential}}$\n",
    "$\\def\\gammadist{\\operatorname{Gamma}}$\n",
    "$\\def\\hyperdist{\\operatorname{Hypergeom}}$\n",
    "$\\def\\hypergeomdist{\\operatorname{Hypergeom}}$\n",
    "$\\DeclareMathOperator{\\multinomialdist}{Multinomial}$\n",
    "$\\DeclareMathOperator{\\multinomdist}{Multinom}$\n",
    "$\\def\\poissondist{\\operatorname{Poisson}}$\n",
    "$\\def\\geomdist{\\operatorname{Geom}}$\n",
    "$\\def\\normaldist{\\operatorname{N}}$\n",
    "$\\def\\unifdist{\\operatorname{Unif}}$\n",
    "$\\DeclareMathOperator{\\indica}{\\mathbb{1}}$\n",
    "$\\def\\CondTo{\\mathbin{|\\mskip0.5mu}}$\n",
    "***"
   ]
  },
  {
   "cell_type": "markdown",
   "id": "floppy-carbon",
   "metadata": {},
   "source": [
    "<h1 style=\"color:blue\">Instructions</h1>"
   ]
  },
  {
   "cell_type": "markdown",
   "id": "70c9392f-68be-443f-869f-3d11500d23d8",
   "metadata": {},
   "source": [
    "### Submissions: \n",
    "\n",
    "By **groups** of _about_ three students (meaning: two is OK, four is not advisable but possible. Individual homeworks \n",
    "will also be accepted but collaborative work is preferable). \n",
    "\n",
    "Please send me an **email** with the team members names as soon as you have formed it.\n",
    "\n",
    "Only **one copy** of each group's work must be uploaded (by any member)\n",
    "\n",
    "**Full names** and **email address** of all team members must appear in the header. "
   ]
  },
  {
   "cell_type": "markdown",
   "id": "205b1149-7745-4070-af12-b16374a0b741",
   "metadata": {},
   "source": [
    "### Format: \n",
    "\n",
    "A Jupyter or R Markdown **notebook,** with a **header** clearly stating the names of all contributors. "
   ]
  },
  {
   "cell_type": "markdown",
   "id": "c7ffc8d7-72ad-4915-a21b-863c669d439d",
   "metadata": {
    "tags": []
   },
   "source": [
    "### Documentation: \n",
    "\n",
    "Comments **in code cells** (e.g., meaning of variables, parameters, purpose of functions) are necessary but not sufficient.\n",
    "\n",
    "You are expected to give full explanations of steps taken in your solution (in **Markdown cells**), as well as discussion of results and their meaning.\n",
    "\n",
    "Do not be afraid of being too verbose or too elementary, explain as if to someone learning."
   ]
  },
  {
   "cell_type": "markdown",
   "id": "de26c667-4256-4b2a-bfb8-cc11bc9a10bb",
   "metadata": {},
   "source": [
    "### External sources\n",
    "\n",
    "Getting _inspiration_ from any book, document, blog, web page, even mimicking solutions given in there, is **allowed and encouraged,** provided you give a **proper reference,** understand every such material, and explain it in you own words, even more exhaustively.\n",
    "\n",
    "Do not **copy/paste literally large chunks of code** I will detect it, believe me, even missing source reference. Bleak consequences."
   ]
  },
  {
   "cell_type": "markdown",
   "id": "52ca45a3-4eab-4ff4-94d1-0fac33d6e15a",
   "metadata": {},
   "source": [
    "### Deadline:\n",
    "\n",
    "Completed assignments are due on Monday, April 17. They are to be uploaded to the Virtual Campus."
   ]
  },
  {
   "cell_type": "markdown",
   "id": "75c5d5eb",
   "metadata": {},
   "source": [
    "-------------------------------------------------------------------------------\n",
    "# Exercise 1\n",
    "-------------------------------------------------------------------------------\n",
    "\n",
    "## Statement"
   ]
  },
  {
   "cell_type": "markdown",
   "id": "acceptable-lender",
   "metadata": {},
   "source": [
    "<h1 style=\"color:blue\">01 - Stan version of a conjugate prior problem</h1>\n",
    "\n",
    "<h2 style=\"color:blue\">Modelling Earthquake Waiting Times</h2>"
   ]
  },
  {
   "cell_type": "markdown",
   "id": "exceptional-marina",
   "metadata": {},
   "source": [
    "Consider the problem in `Exponential.02.Earthquake` (notebook in 2023-03-27 folder), where the goal is to study earthquake waiting times.\n",
    "\n",
    "Likelihood is modelled as an $\\expdist(\\lambda)$ and $\\lambda$ is given a conjugate prior, $\\lambda\\sim\\gammadist(\\alpha,\\beta)$.\n",
    "\n",
    "In the `Exponential.02.Earthquake` notebook some simulations are performed for:\n",
    "\n",
    "01. Prior pdf for $\\lambda$.\n",
    "02. Prior predictive pdf for the waiting time.\n",
    "03. Posterior pdf for $\\lambda$.\n",
    "04. Posterior predictive for new waiting time.\n",
    "\n",
    "using known theoretical (analytical) descriptions of these distributions.\n",
    "\n",
    "Your task is to redo these simulations using Stan (avoiding conjugate prior formulas), then compare your results to the analytical ones. \n",
    "\n",
    "Use this comparison to tune up adjustable parameters in Stan sampling, such as chain length. "
   ]
  },
  {
   "cell_type": "markdown",
   "id": "ef213573",
   "metadata": {},
   "source": [
    "-------------------------------------------------------------------------------\n",
    "# Exercise 1\n",
    "-------------------------------------------------------------------------------\n",
    "\n",
    "## Solution"
   ]
  },
  {
   "cell_type": "code",
   "execution_count": 1,
   "id": "a589db3a",
   "metadata": {},
   "outputs": [
    {
     "name": "stderr",
     "output_type": "stream",
     "text": [
      "Loading required package: rstan\n",
      "\n",
      "Loading required package: StanHeaders\n",
      "\n",
      "\n",
      "rstan version 2.26.22 (Stan version 2.26.1)\n",
      "\n",
      "\n",
      "For execution on a local, multicore CPU with excess RAM we recommend calling\n",
      "options(mc.cores = parallel::detectCores()).\n",
      "To avoid recompilation of unchanged Stan programs, we recommend calling\n",
      "rstan_options(auto_write = TRUE)\n",
      "For within-chain threading using `reduce_sum()` or `map_rect()` Stan functions,\n",
      "change `threads_per_chain` option:\n",
      "rstan_options(threads_per_chain = 1)\n",
      "\n",
      "\n",
      "Do not specify '-march=native' in 'LOCAL_CPPFLAGS' or a Makevars file\n",
      "\n",
      "Loading required package: actuar\n",
      "\n",
      "\n",
      "Attaching package: 'actuar'\n",
      "\n",
      "\n",
      "The following objects are masked from 'package:stats':\n",
      "\n",
      "    sd, var\n",
      "\n",
      "\n",
      "The following object is masked from 'package:grDevices':\n",
      "\n",
      "    cm\n",
      "\n",
      "\n"
     ]
    }
   ],
   "source": [
    "# install.packages(\"rstan\", dependencies=TRUE,repos= \"https://cloud.r-project.org\")\n",
    "require(rstan)\n",
    "options(mc.cores = parallel::detectCores())\n",
    "rstan_options(auto_write = TRUE)\n",
    "# install.packages(\"actuar\", dependencies=TRUE,repos= \"https://cloud.r-project.org\")\n",
    "require(actuar)  # for plotting analytical predictive distributions"
   ]
  },
  {
   "cell_type": "markdown",
   "id": "b9a331da",
   "metadata": {},
   "source": [
    "### 1 & 2: Simulation of the prior pdf for $\\lambda$, $p(\\theta)$, and the prior predictive pdf for $y$, $p(x)$"
   ]
  },
  {
   "cell_type": "markdown",
   "id": "f3592a83",
   "metadata": {},
   "source": [
    "First, we want to perform simulations using Stan for:\n",
    "1. The prior pdf for $\\lambda$, assuming $\\lambda \\sim \\mathrm{Gamma}(\\alpha, \\beta)$\n",
    "2. The prior (predictive) pdf for the waiting time, $y$, assuming $y \\sim \\expdist(\\lambda)$"
   ]
  },
  {
   "cell_type": "markdown",
   "id": "cb329178",
   "metadata": {},
   "source": [
    "Let $\\theta$ be the simulation of the prior pdf for $\\lambda$. Then, we have to define a model in Stan which takes $\\theta$ as **parameter**, just with $\\alpha$ & $\\beta$ as input (our prior knowledge). We will take $\\alpha = 1$ and $\\beta = 30$ as prior knowledge in the same fashion as the `Exponential.02.Earthquake` notebook."
   ]
  },
  {
   "cell_type": "code",
   "execution_count": 2,
   "id": "5e46dc88",
   "metadata": {},
   "outputs": [],
   "source": [
    "alpha.prior <- 1\n",
    "beta.prior <- 30"
   ]
  },
  {
   "cell_type": "markdown",
   "id": "d62ad51e",
   "metadata": {},
   "source": [
    "Below, the model code for Stan is defined (very similar to those present in `Exponential.01.Claims` notebook). Let $y_{\\mathrm{pred}}$ be the simulation of the likelihood. Note that this will be **obtained** as 'generated quantity' from the simulation of the prior pdf assuming $y \\sim \\expdist (\\lambda)$.: "
   ]
  },
  {
   "cell_type": "code",
   "execution_count": 3,
   "id": "07a6d7f6",
   "metadata": {},
   "outputs": [],
   "source": [
    "prior.pdf.stan.model.code <- \"\n",
    "data {\n",
    "        real<lower=0> prior_a;\n",
    "        real<lower=0> prior_b;\n",
    "    }\n",
    "\n",
    "parameters {\n",
    "        real<lower=0.00001> theta;\n",
    "    }\n",
    "\n",
    "model {\n",
    "        theta ~ gamma(prior_a,prior_b);\n",
    "    }\n",
    "\n",
    "generated quantities {\n",
    "        real y_pred;\n",
    "        y_pred = exponential_rng(theta);\n",
    "    }\n",
    "    \""
   ]
  },
  {
   "cell_type": "markdown",
   "id": "7b01be81",
   "metadata": {},
   "source": [
    "We then compile the model with the ``stan_model`` directive:"
   ]
  },
  {
   "cell_type": "code",
   "execution_count": 4,
   "id": "55895269",
   "metadata": {},
   "outputs": [],
   "source": [
    "prior.pdf.stan.Dso <- stan_model(model_code=prior.pdf.stan.model.code)"
   ]
  },
  {
   "cell_type": "markdown",
   "id": "b7d9a90d",
   "metadata": {},
   "source": [
    "Afterwards, we define as data the values of $\\alpha$ and $\\beta$, to perform the ``sampling`` for the prior pdf:"
   ]
  },
  {
   "cell_type": "code",
   "execution_count": 5,
   "id": "05fc0d1b",
   "metadata": {},
   "outputs": [
    {
     "name": "stdout",
     "output_type": "stream",
     "text": [
      "\n",
      "SAMPLING FOR MODEL 'anon_model' NOW (CHAIN 1).\n",
      "Chain 1: \n",
      "Chain 1: Gradient evaluation took 1.3e-05 seconds\n",
      "Chain 1: 1000 transitions using 10 leapfrog steps per transition would take 0.13 seconds.\n",
      "Chain 1: Adjust your expectations accordingly!\n",
      "Chain 1: \n",
      "Chain 1: \n",
      "Chain 1: Iteration:    1 / 10000 [  0%]  (Warmup)\n",
      "Chain 1: Iteration: 1000 / 10000 [ 10%]  (Warmup)\n",
      "Chain 1: Iteration: 2000 / 10000 [ 20%]  (Warmup)\n",
      "Chain 1: Iteration: 3000 / 10000 [ 30%]  (Warmup)\n",
      "Chain 1: Iteration: 4000 / 10000 [ 40%]  (Warmup)\n",
      "Chain 1: Iteration: 5000 / 10000 [ 50%]  (Warmup)\n",
      "Chain 1: Iteration: 5001 / 10000 [ 50%]  (Sampling)\n",
      "Chain 1: Iteration: 6000 / 10000 [ 60%]  (Sampling)\n",
      "Chain 1: Iteration: 7000 / 10000 [ 70%]  (Sampling)\n",
      "Chain 1: Iteration: 8000 / 10000 [ 80%]  (Sampling)\n",
      "Chain 1: Iteration: 9000 / 10000 [ 90%]  (Sampling)\n",
      "Chain 1: Iteration: 10000 / 10000 [100%]  (Sampling)\n",
      "Chain 1: \n",
      "Chain 1:  Elapsed Time: 0.031 seconds (Warm-up)\n",
      "Chain 1:                0.033 seconds (Sampling)\n",
      "Chain 1:                0.064 seconds (Total)\n",
      "Chain 1: \n"
     ]
    }
   ],
   "source": [
    "prior.dat <- list(prior_a=alpha.prior, prior_b=beta.prior)\n",
    "prior.fit <- sampling(prior.pdf.stan.Dso, data = prior.dat, iter = 10000, chains=1, warmup = 5000, thin = 1)"
   ]
  },
  {
   "cell_type": "markdown",
   "id": "da6a1cda",
   "metadata": {},
   "source": [
    "And finally we can just extract the prior pdf's $\\theta$ and $y_{\\mathrm{pred}}$ using the ``extract`` function:"
   ]
  },
  {
   "cell_type": "code",
   "execution_count": 6,
   "id": "b0dcc364",
   "metadata": {},
   "outputs": [],
   "source": [
    "theta.prior <- extract(prior.fit, 'theta')\n",
    "theta.prior <- unlist(theta.prior, use.names=FALSE) # prior lambda\n",
    "y_pred.prior <- extract(prior.fit, 'y_pred')\n",
    "y_pred.prior <- unlist(theta.prior, use.names=FALSE) # prior predictive y_pred (waiting time)"
   ]
  },
  {
   "cell_type": "markdown",
   "id": "cb7ed3b7",
   "metadata": {},
   "source": [
    "#### Analytical comparison of the results"
   ]
  },
  {
   "cell_type": "markdown",
   "id": "b64bad52",
   "metadata": {
    "vscode": {
     "languageId": "r"
    }
   },
   "source": [
    "As found in the ```Exponential.02.Earthquake``` notebook, the prior predictive distribution has analytical expression $f(y)$ being a **Pareto II (Lomax)**. This allows us to compare our simulations with the analytical approach, both for the prior pdf $\\lambda$ (since its analytical expression is given by a $\\mathrm{Gamma}(\\alpha, \\beta)$ distribution) and the prior predictive pdf for the waiting times. Below we plot them, both analytically and from our Stan's simulations:"
   ]
  },
  {
   "cell_type": "code",
   "execution_count": 12,
   "id": "bda7eca2",
   "metadata": {},
   "outputs": [
    {
     "data": {
      "image/png": "[encoded data removed]",
      "text/plain": [
       "Plot with title \"Waiting Time\""
      ]
     },
     "metadata": {
      "image/png": {
       "height": 420,
       "width": 840
      }
     },
     "output_type": "display_data"
    }
   ],
   "source": [
    "options(repr.plot.width=14,repr.plot.height=7)\n",
    "old.par<- par(mfrow=c(1,2))\n",
    "\n",
    "plot(density(theta.prior), xlab=expression(theta.prior), col=grey(0, 0.8),lwd=3, main=\"Lambda\", ylim=c(0, 30))\n",
    "curve(dgamma(x, alpha.prior, beta.prior), add=TRUE, col=2)\n",
    "legend(x=0.15,y=23,legend=c(\"Analytical prior\", \"Simulated prior\"), col=c(2, grey(0, 0.8)), lty=c(1,1), bty=\"n\",lwd=2)\n",
    "\n",
    "x_lim <- c(0, 10)\n",
    "plot(density(y_pred.prior), xlab=expression(y_pred.prior), col=grey(0, 0.8),lwd=3, xlim=x_lim, main=\"Waiting Time\")\n",
    "curve(dpareto(x, alpha.prior, beta.prior), add=TRUE, col=2, lwd=1.5, lty=2,5)\n",
    "legend(x=x_lim[1] - x_lim[1] / 5, y=15, legend=c(\"Analytical prior predictive\", \"Simulated prior predictive\"), \n",
    "       col=c(2, grey(0, 0.8)), lty=c(2,1), bty=\"n\",lwd=3)\n",
    "\n",
    "par(old.par)"
   ]
  },
  {
   "cell_type": "markdown",
   "id": "95348bab",
   "metadata": {},
   "source": [
    "Which seems to present some discrepancies in the case of the prior predictive pdf, but models relatively well the prior pdf. In fact, we could compare the expected value and variance obtained with the simulation, with respect to the analytical approach knowing that:\n",
    "\n",
    "- For a $\\lambda \\sim \\mathrm{Gamma}(\\alpha, \\beta)$:\n",
    "$$\\mathbb{E}[\\lambda] = \\frac{\\alpha}{\\beta}$$\n",
    "$$\\mathrm{Var}[\\lambda] = \\frac{\\alpha}{\\beta^2}$$"
   ]
  },
  {
   "cell_type": "code",
   "execution_count": 8,
   "id": "8a70c938",
   "metadata": {
    "vscode": {
     "languageId": "r"
    }
   },
   "outputs": [
    {
     "data": {
      "text/html": [
       "0.0333"
      ],
      "text/latex": [
       "0.0333"
      ],
      "text/markdown": [
       "0.0333"
      ],
      "text/plain": [
       "[1] 0.0333"
      ]
     },
     "metadata": {},
     "output_type": "display_data"
    },
    {
     "data": {
      "text/html": [
       "0.0333"
      ],
      "text/latex": [
       "0.0333"
      ],
      "text/markdown": [
       "0.0333"
      ],
      "text/plain": [
       "[1] 0.0333"
      ]
     },
     "metadata": {},
     "output_type": "display_data"
    }
   ],
   "source": [
    "# analytical expected value and sd\n",
    "lambda.prior.expectation <- alpha.prior / beta.prior\n",
    "lambda.prior.variance <- alpha.prior / beta.prior^2\n",
    "lambda.prior.sd <- sqrt(lambda.prior.variance)\n",
    "\n",
    "round(lambda.prior.expectation, 4)\n",
    "round(lambda.prior.sd, 4)"
   ]
  },
  {
   "cell_type": "code",
   "execution_count": 9,
   "id": "3d8bb8d8",
   "metadata": {},
   "outputs": [
    {
     "data": {
      "text/html": [
       "0.033"
      ],
      "text/latex": [
       "0.033"
      ],
      "text/markdown": [
       "0.033"
      ],
      "text/plain": [
       "[1] 0.033"
      ]
     },
     "metadata": {},
     "output_type": "display_data"
    },
    {
     "data": {
      "text/html": [
       "0.0341"
      ],
      "text/latex": [
       "0.0341"
      ],
      "text/markdown": [
       "0.0341"
      ],
      "text/plain": [
       "[1] 0.0341"
      ]
     },
     "metadata": {},
     "output_type": "display_data"
    }
   ],
   "source": [
    "theta.prior.expectation <- mean(theta.prior)\n",
    "theta.prior.sd <- sqrt(var(theta.prior))\n",
    "\n",
    "round(theta.prior.expectation, 4)\n",
    "round(theta.prior.sd, 4)"
   ]
  },
  {
   "cell_type": "markdown",
   "id": "065c6cb4",
   "metadata": {},
   "source": [
    "Which are very close results! In a similar fashion, we know that:\n",
    "\n",
    "- For $y \\sim \\expdist(\\lambda) $ with the previously defined $\\lambda$:\n",
    "$$ \\operatorname{E}(Y)=\\dfrac{\\beta}{\\alpha-1},\\mskip20mu\\alpha>1,\\mskip30mu $$\n",
    "$$ \\operatorname{var}(Y)=\\dfrac{\\beta^{2}\\,\\alpha}{(\\alpha-1)^{2}\\,(\\alpha-2)},\\mskip20mu \\alpha>2, $$\n",
    "\n",
    "But since our $\\alpha = 1$ these expressions do not apply."
   ]
  },
  {
   "cell_type": "markdown",
   "id": "bce14f9b",
   "metadata": {},
   "source": [
    "### 3 & 4: Simulation of the posterior pdf for $\\lambda$, $p(\\theta|x)$, and the posterior predictive pdf for $y$"
   ]
  },
  {
   "cell_type": "markdown",
   "id": "71daea3a",
   "metadata": {},
   "source": [
    "Now, we want to perform simulations using Stan for:\n",
    "\n",
    "3. The prior pdf for $\\lambda$, with the new knowledge\n",
    "4. The posterior (predictive) pdf for new waiting time, obtained from $p(\\theta|x)$"
   ]
  },
  {
   "cell_type": "markdown",
   "id": "7089b57f",
   "metadata": {},
   "source": [
    "To simulate the posterior pdf's we will need, apart from the prior knowledge, some observations. Thus, we will take the same observations' vector as the ``Exponential.02.Earthquake`` notebook's:"
   ]
  },
  {
   "cell_type": "code",
   "execution_count": 13,
   "id": "0214a485",
   "metadata": {
    "vscode": {
     "languageId": "r"
    }
   },
   "outputs": [],
   "source": [
    "obs <- c(16, 8, 114, 60, 4, 23, 30, 105)\n",
    "n <- length(obs)"
   ]
  },
  {
   "cell_type": "markdown",
   "id": "e7d77a55",
   "metadata": {},
   "source": [
    "Now, we define a model to simulate the posterior pdfs, in which $\\theta$ will model $\\lambda$ as parameter and the predictive pdf for $y$ will be obtained as 'generated quantity' $y_{\\mathrm{pred}}$, but now $n$ and $y[n]$ will receive the observations to include them in the simulation:"
   ]
  },
  {
   "cell_type": "code",
   "execution_count": 14,
   "id": "91757631",
   "metadata": {},
   "outputs": [],
   "source": [
    "posterior.pdf.stan.model.code <- \"\n",
    "data {\n",
    "        real<lower=0> prior_a;\n",
    "        real<lower=0> prior_b;\n",
    "\n",
    "        int<lower=0> n;\n",
    "        real<lower=0> y[n];\n",
    "    }\n",
    "\n",
    "parameters {\n",
    "        real<lower=0.00001> theta;\n",
    "    }\n",
    "\n",
    "model {\n",
    "        theta ~ gamma(prior_a,prior_b);\n",
    "        y ~ exponential(theta);\n",
    "    }\n",
    "\n",
    "generated quantities {\n",
    "        real y_pred;\n",
    "        y_pred = exponential_rng(theta);\n",
    "    }\n",
    "    \""
   ]
  },
  {
   "cell_type": "markdown",
   "id": "0c1f237d",
   "metadata": {},
   "source": [
    "We compile the model"
   ]
  },
  {
   "cell_type": "code",
   "execution_count": 15,
   "id": "cbaecda2",
   "metadata": {},
   "outputs": [],
   "source": [
    "posterior.pdf.stan.Dso <- stan_model(model_code=posterior.pdf.stan.model.code)"
   ]
  },
  {
   "cell_type": "markdown",
   "id": "41d72a09",
   "metadata": {},
   "source": [
    "Then, we pass the observations and prior knowledge:"
   ]
  },
  {
   "cell_type": "code",
   "execution_count": 16,
   "id": "67446698",
   "metadata": {},
   "outputs": [
    {
     "name": "stdout",
     "output_type": "stream",
     "text": [
      "\n",
      "SAMPLING FOR MODEL 'anon_model' NOW (CHAIN 1).\n",
      "Chain 1: \n",
      "Chain 1: Gradient evaluation took 1.8e-05 seconds\n",
      "Chain 1: 1000 transitions using 10 leapfrog steps per transition would take 0.18 seconds.\n",
      "Chain 1: Adjust your expectations accordingly!\n",
      "Chain 1: \n",
      "Chain 1: \n",
      "Chain 1: Iteration:     1 / 15000 [  0%]  (Warmup)\n",
      "Chain 1: Iteration:  1500 / 15000 [ 10%]  (Warmup)\n",
      "Chain 1: Iteration:  3000 / 15000 [ 20%]  (Warmup)\n",
      "Chain 1: Iteration:  4500 / 15000 [ 30%]  (Warmup)\n",
      "Chain 1: Iteration:  6000 / 15000 [ 40%]  (Warmup)\n",
      "Chain 1: Iteration:  7001 / 15000 [ 46%]  (Sampling)\n",
      "Chain 1: Iteration:  8500 / 15000 [ 56%]  (Sampling)\n",
      "Chain 1: Iteration: 10000 / 15000 [ 66%]  (Sampling)\n",
      "Chain 1: Iteration: 11500 / 15000 [ 76%]  (Sampling)\n",
      "Chain 1: Iteration: 13000 / 15000 [ 86%]  (Sampling)\n",
      "Chain 1: Iteration: 14500 / 15000 [ 96%]  (Sampling)\n",
      "Chain 1: Iteration: 15000 / 15000 [100%]  (Sampling)\n",
      "Chain 1: \n",
      "Chain 1:  Elapsed Time: 0.042 seconds (Warm-up)\n",
      "Chain 1:                0.048 seconds (Sampling)\n",
      "Chain 1:                0.09 seconds (Total)\n",
      "Chain 1: \n"
     ]
    }
   ],
   "source": [
    "posterior.dat <- list(n = n, y = obs, prior_a=alpha.prior, prior_b=beta.prior); \n",
    "posterior.fit <- sampling(posterior.pdf.stan.Dso, data = posterior.dat, iter = 15000, chains=1, warmup = 7000, thin = 1) "
   ]
  },
  {
   "cell_type": "markdown",
   "id": "be7c2c04",
   "metadata": {},
   "source": [
    "And we finally extract the results"
   ]
  },
  {
   "cell_type": "code",
   "execution_count": 17,
   "id": "f9ff74bf",
   "metadata": {},
   "outputs": [],
   "source": [
    "theta.posterior <- extract(posterior.fit, 'theta')\n",
    "theta.posterior <- unlist(theta.posterior, use.names=FALSE) # posterior lambda\n",
    "y_pred.posterior <- extract(posterior.fit, 'y_pred')\n",
    "y_pred.posterior <- unlist(y_pred.posterior, use.names=FALSE) # posterior predictive expecting time"
   ]
  },
  {
   "cell_type": "markdown",
   "id": "d5e4d496",
   "metadata": {},
   "source": [
    "#### Analytical comparison of the results"
   ]
  },
  {
   "cell_type": "markdown",
   "id": "4faffd06",
   "metadata": {},
   "source": [
    "We can compare now our simulations with the analytical expressions taking advantage we are dealing with a conjugate model. Then, we know that the posterior pdf for $\\lambda$ is also given by a $\\mathrm{Gamma}$ distribution but with updated parameters. Namely, $\\lambda\\sim\\operatorname{Gamma}(\\alpha',\\beta')$ with:\n",
    "\n",
    "$$\n",
    "    \\left\\{\n",
    "    \\begin{array}{lcl}\n",
    "    \\alpha'&=&\\alpha+n,\\\\[0.2cm]\n",
    "    \\beta'&=&\\beta+n\\,\\overline{y}.\n",
    "    \\end{array}\\right.\n",
    "$$"
   ]
  },
  {
   "cell_type": "markdown",
   "id": "de9298c3",
   "metadata": {},
   "source": [
    "Let us define them:"
   ]
  },
  {
   "cell_type": "code",
   "execution_count": 18,
   "id": "acbb32bd",
   "metadata": {
    "vscode": {
     "languageId": "r"
    }
   },
   "outputs": [],
   "source": [
    "ybar<-mean(obs)\n",
    "nybar<-sum(obs)\n",
    "\n",
    "alpha.posterior <- alpha.prior + n\n",
    "beta.posterior <- beta.prior + nybar"
   ]
  },
  {
   "cell_type": "markdown",
   "id": "10ce8371",
   "metadata": {},
   "source": [
    "And since the posterior $\\lambda$ is distributed as a $\\mathrm{\\Gamma}$ we can recall the former expressions for the expected value and standard deviation:"
   ]
  },
  {
   "cell_type": "code",
   "execution_count": 19,
   "id": "54734b94",
   "metadata": {
    "vscode": {
     "languageId": "r"
    }
   },
   "outputs": [
    {
     "data": {
      "text/html": [
       "0.0231"
      ],
      "text/latex": [
       "0.0231"
      ],
      "text/markdown": [
       "0.0231"
      ],
      "text/plain": [
       "[1] 0.0231"
      ]
     },
     "metadata": {},
     "output_type": "display_data"
    },
    {
     "data": {
      "text/html": [
       "0.0077"
      ],
      "text/latex": [
       "0.0077"
      ],
      "text/markdown": [
       "0.0077"
      ],
      "text/plain": [
       "[1] 0.0077"
      ]
     },
     "metadata": {},
     "output_type": "display_data"
    }
   ],
   "source": [
    "lambda.posterior.expectation <- alpha.posterior / beta.posterior\n",
    "lambda.posterior.variance <- alpha.posterior / beta.posterior^2\n",
    "lambda.posterior.sd <- sqrt(lambda.posterior.variance)\n",
    "round(lambda.posterior.expectation, 4)\n",
    "round(lambda.posterior.sd, 4)"
   ]
  },
  {
   "cell_type": "markdown",
   "id": "6d406fb6",
   "metadata": {},
   "source": [
    "Which do not differ too much from the obtained from our simulations! "
   ]
  },
  {
   "cell_type": "code",
   "execution_count": 20,
   "id": "a0878aec",
   "metadata": {},
   "outputs": [
    {
     "data": {
      "text/html": [
       "0.0231"
      ],
      "text/latex": [
       "0.0231"
      ],
      "text/markdown": [
       "0.0231"
      ],
      "text/plain": [
       "[1] 0.0231"
      ]
     },
     "metadata": {},
     "output_type": "display_data"
    },
    {
     "data": {
      "text/html": [
       "0.0076"
      ],
      "text/latex": [
       "0.0076"
      ],
      "text/markdown": [
       "0.0076"
      ],
      "text/plain": [
       "[1] 0.0076"
      ]
     },
     "metadata": {},
     "output_type": "display_data"
    }
   ],
   "source": [
    "theta.posterior.expectation <- mean(theta.posterior)\n",
    "theta.posterior.sd <- sqrt(var(theta.posterior))\n",
    "\n",
    "round(theta.posterior.expectation, 4)\n",
    "round(theta.posterior.sd, 4)"
   ]
  },
  {
   "cell_type": "markdown",
   "id": "ca4d2a2f",
   "metadata": {},
   "source": [
    "Let us finally plot the posterior pdf both for $\\lambda$ and the predictive pdf for the waiting time, comparing them with their analytical expressions:"
   ]
  },
  {
   "cell_type": "code",
   "execution_count": 30,
   "id": "ddf9e02a",
   "metadata": {
    "vscode": {
     "languageId": "r"
    }
   },
   "outputs": [
    {
     "data": {
      "image/png": "[encoded data removed]",
      "text/plain": [
       "Plot with title \"Waiting Time\""
      ]
     },
     "metadata": {
      "image/png": {
       "height": 420,
       "width": 840
      }
     },
     "output_type": "display_data"
    }
   ],
   "source": [
    "options(repr.plot.width=14,repr.plot.height=7)\n",
    "old.par<- par(mfrow=c(1,2))\n",
    "\n",
    "plot(density(theta.posterior), xlab=expression(theta.posterior), col=grey(0, 0.8),lwd=3, main=\"Lambda\")\n",
    "curve(dgamma(x, alpha.posterior, beta.posterior), add=TRUE, col=2)\n",
    "legend(x=0.0255,y=40,legend=c(\"Analytical posterior\", \"Simulated posterior\"), col=c(2, grey(0, 0.8)), lty=c(1,1), bty=\"n\",lwd=2)\n",
    "\n",
    "plot(density(y_pred.posterior), xlab=expression(y_pred.posterior), col=grey(0, 0.8),lwd=3, xlim=c(0, 800), main=\"Waiting Time\")\n",
    "curve(dpareto(x, alpha.posterior, beta.posterior), add=TRUE, col=2, lwd=1.5, lty=2,5)\n",
    "legend(x=250,y=0.0125,legend=c(\"Analytical posterior predictive\", \"Simulated posterior predictive\"), \n",
    "       col=c(2, grey(0, 0.8)), lty=c(2,1), bty=\"n\",lwd=3)\n",
    "\n",
    "par(old.par)"
   ]
  },
  {
   "cell_type": "markdown",
   "id": "9ec5682c",
   "metadata": {},
   "source": [
    "Yielding a better fit!"
   ]
  },
  {
   "cell_type": "markdown",
   "id": "1df3dfa6",
   "metadata": {},
   "source": [
    "### Improvements"
   ]
  },
  {
   "cell_type": "markdown",
   "id": "0516b46a",
   "metadata": {},
   "source": [
    "The convergency and quality of the sampling process when there are observations can be improved by changing some parameters. The main idea is to use the warmup parameter to decrease the possibility of divergencies; however, this does not prevent the apparison of bias in the process. To reduce the bias and ensure the convergence does not depend on the particular simulation, the best idea is to increment the number of chains up to 2 or 3. This is what is done below with the posterior pdf's simulations:"
   ]
  },
  {
   "cell_type": "code",
   "execution_count": 35,
   "id": "d8204aed",
   "metadata": {
    "vscode": {
     "languageId": "r"
    }
   },
   "outputs": [
    {
     "data": {
      "image/png": "[encoded data removed]",
      "text/plain": [
       "Plot with title \"Waiting Time\""
      ]
     },
     "metadata": {
      "image/png": {
       "height": 420,
       "width": 840
      }
     },
     "output_type": "display_data"
    }
   ],
   "source": [
    "warm_up <- 10000\n",
    "chains_num <- 3\n",
    "\n",
    "##########################\n",
    "\n",
    "posterior.dat <- list(n = n, y = obs, prior_a=alpha.prior, prior_b=beta.prior); \n",
    "posterior.fit <- sampling(posterior.pdf.stan.Dso, data = posterior.dat, iter = 15000, chains=chains_num, warmup = warm_up, thin = 1) \n",
    "\n",
    "theta.posterior <- extract(posterior.fit, 'theta')\n",
    "theta.posterior <- unlist(theta.posterior, use.names=FALSE) # posterior lambda\n",
    "y_pred.posterior <- extract(posterior.fit, 'y_pred')\n",
    "y_pred.posterior <- unlist(y_pred.posterior, use.names=FALSE) # posterior predictive expecting time\n",
    "\n",
    "options(repr.plot.width=14,repr.plot.height=7)\n",
    "old.par<- par(mfrow=c(1,2))\n",
    "\n",
    "plot(density(theta.posterior), xlab=expression(theta.posterior), col=grey(0, 0.8),lwd=3, main=\"Lambda\")\n",
    "curve(dgamma(x, alpha.posterior, beta.posterior), add=TRUE, col=2)\n",
    "legend(x=0.0255,y=40,legend=c(\"Analytical posterior\", \"Simulated posterior\"), col=c(2, grey(0, 0.8)), lty=c(1,1), bty=\"n\",lwd=2)\n",
    "\n",
    "plot(density(y_pred.posterior), xlab=expression(y_pred.posterior), col=grey(0, 0.8),lwd=3, xlim=c(0, 800), main=\"Waiting Time\")\n",
    "curve(dpareto(x, alpha.posterior, beta.posterior), add=TRUE, col=2, lwd=1.5, lty=2,5)\n",
    "legend(x=250,y=0.0125,legend=c(\"Analytical posterior predictive\", \"Simulated posterior predictive\"), \n",
    "       col=c(2, grey(0, 0.8)), lty=c(2,1), bty=\"n\",lwd=3)\n",
    "\n",
    "par(old.par)"
   ]
  },
  {
   "cell_type": "markdown",
   "id": "571fcf1d",
   "metadata": {},
   "source": [
    "---------------------------------------------------------------------------------------------------\n",
    "# Exercise 2\n",
    "---------------------------------------------------------------------------------------------------\n",
    "## Statement"
   ]
  },
  {
   "cell_type": "markdown",
   "id": "upper-radio",
   "metadata": {},
   "source": [
    "<h1 style=\"color:blue\">02 - A more elaborate mixture prior for the spinning coin</h1>"
   ]
  },
  {
   "cell_type": "markdown",
   "id": "disturbed-friendship",
   "metadata": {},
   "source": [
    "(continued from Diaconis experiment)"
   ]
  },
  {
   "cell_type": "markdown",
   "id": "operational-roommate",
   "metadata": {},
   "source": [
    "On reflection, it was decided that tails had come up more often than heads in the past; further some coins seemed likely to be symmetric. \n",
    "\n",
    "Thus, a final approximation to the prior was taken as:\n",
    "\n",
    "$$\n",
    "    0.50\\cdot\\betadist(10,20) + 0.20\\cdot\\betadist(15,15) + 0.30\\cdot\\betadist(20,10).\n",
    "$$\n",
    "\n",
    "Same observed data as in the previous model."
   ]
  },
  {
   "cell_type": "code",
   "execution_count": 31,
   "id": "continental-diesel",
   "metadata": {
    "vscode": {
     "languageId": "r"
    }
   },
   "outputs": [],
   "source": [
    "# Number of trials\n",
    "n<-10\n",
    "# Observed x\n",
    "x.obs<-3"
   ]
  },
  {
   "cell_type": "markdown",
   "id": "fluid-moderator",
   "metadata": {},
   "source": [
    "Perform a complete Bayesian analysis of this model, in close parallel to the first example.\n",
    "\n",
    "(1) Using the theoretical formulas (prior predictive pmf, posterior pdf, posterior predictive pmf)\n",
    "\n",
    "(2) Using independent random numbers (`rbeta()` functions, etc.)\n",
    "\n",
    "(3) JAGS version\n",
    "\n",
    "(4)$ {}^{\\star}$ Stan version. "
   ]
  },
  {
   "cell_type": "markdown",
   "id": "pursuant-martin",
   "metadata": {},
   "source": [
    ">$ (\\star)$ Hint: this one **is difficult** due to intrinsic limitations in Stan:   \n",
    "Stan does not allow integer parameters thus the JAGS code cannot be translated literally.  \n",
    "\n",
    ">As a matter of fact even a Stan version of the two-components prior mixture in `Mixture.priors.02.ipynb` \n",
    "is tricky.   \n",
    "There are several possible workarounds; try to find one but do not despair if you fail to develop a workable version."
   ]
  }
 ],
 "metadata": {
  "kernelspec": {
   "display_name": "R",
   "language": "R",
   "name": "ir"
  },
  "language_info": {
   "codemirror_mode": "r",
   "file_extension": ".r",
   "mimetype": "text/x-r-source",
   "name": "R",
   "pygments_lexer": "r",
   "version": "4.2.3"
  }
 },
 "nbformat": 4,
 "nbformat_minor": 5
}
