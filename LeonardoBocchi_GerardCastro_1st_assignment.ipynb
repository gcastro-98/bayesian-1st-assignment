{
 "cells": [
  {
   "cell_type": "markdown",
   "id": "7ffe36ba",
   "metadata": {},
   "source": [
    "\n",
    "#### 1st assignment by:\n",
    "- Leonardo Bocchi: leonardo.bocchi.205@gmail.com\n",
    "- Gerard Castro: gcastrca25@alumnes.ub.edu"
   ]
  },
  {
   "cell_type": "markdown",
   "id": "indoor-catalyst",
   "metadata": {
    "tags": []
   },
   "source": [
    "<h1 style=\"color:blue\"> Bayesian Statistics and Probabilistic Programming</h1>\n",
    "\n",
    "<h1 style=\"color:blue\"> Spring 2023 - Homework 01</h1>\n",
    "\n",
    "<h3 style=\"color:blue\">2023-03-27</h3>"
   ]
  },
  {
   "cell_type": "markdown",
   "id": "occasional-trigger",
   "metadata": {
    "tags": []
   },
   "source": [
    "***\n",
    "###### LaTeX macros\n",
    "$\\def\\prob{P}$\n",
    "$\\def\\argmax{\\operatorname{arg\\,max}}$\n",
    "$\\def\\argmin{\\operatorname{arg\\,min}}$\n",
    "$\\def\\borel{\\operatorname{Borel}}$\n",
    "$\\def\\cE{\\cal E}$\n",
    "$\\def\\cP{\\cal P}$\n",
    "$\\def\\R{\\mathbb{R}}$ \n",
    "$\\def\\N{\\mathbb{N}}$\n",
    "$\\def\\Z{\\mathbb{Z}}$\n",
    "$\\def\\Ee{\\operatorname{E}}$\n",
    "$\\def\\va{\\text{v.a.}}$\n",
    "$\\def\\var{\\operatorname{var}}$\n",
    "$\\def\\cov{\\operatorname{cov}}$\n",
    "$\\def\\cor{\\operatorname{cor}}$\n",
    "$\\def\\binomdist{\\operatorname{Binom}}$\n",
    "$\\def\\berndist{\\operatorname{Ber}}$\n",
    "$\\def\\betabinomdist{\\operatorname{Beta-Binom}}$\n",
    "$\\def\\betadist{\\operatorname{Beta}}$\n",
    "$\\def\\expdist{\\operatorname{Exponential}}$\n",
    "$\\def\\gammadist{\\operatorname{Gamma}}$\n",
    "$\\def\\hyperdist{\\operatorname{Hypergeom}}$\n",
    "$\\def\\hypergeomdist{\\operatorname{Hypergeom}}$\n",
    "$\\DeclareMathOperator{\\multinomialdist}{Multinomial}$\n",
    "$\\DeclareMathOperator{\\multinomdist}{Multinom}$\n",
    "$\\def\\poissondist{\\operatorname{Poisson}}$\n",
    "$\\def\\geomdist{\\operatorname{Geom}}$\n",
    "$\\def\\normaldist{\\operatorname{N}}$\n",
    "$\\def\\unifdist{\\operatorname{Unif}}$\n",
    "$\\DeclareMathOperator{\\indica}{\\mathbb{1}}$\n",
    "$\\def\\CondTo{\\mathbin{|\\mskip0.5mu}}$\n",
    "***"
   ]
  },
  {
   "cell_type": "markdown",
   "id": "floppy-carbon",
   "metadata": {},
   "source": [
    "<h1 style=\"color:blue\">Instructions</h1>"
   ]
  },
  {
   "cell_type": "markdown",
   "id": "70c9392f-68be-443f-869f-3d11500d23d8",
   "metadata": {},
   "source": [
    "### Submissions: \n",
    "\n",
    "By **groups** of _about_ three students (meaning: two is OK, four is not advisable but possible. Individual homeworks \n",
    "will also be accepted but collaborative work is preferable). \n",
    "\n",
    "Please send me an **email** with the team members names as soon as you have formed it.\n",
    "\n",
    "Only **one copy** of each group's work must be uploaded (by any member)\n",
    "\n",
    "**Full names** and **email address** of all team members must appear in the header. "
   ]
  },
  {
   "cell_type": "markdown",
   "id": "205b1149-7745-4070-af12-b16374a0b741",
   "metadata": {},
   "source": [
    "### Format: \n",
    "\n",
    "A Jupyter or R Markdown **notebook,** with a **header** clearly stating the names of all contributors. "
   ]
  },
  {
   "cell_type": "markdown",
   "id": "c7ffc8d7-72ad-4915-a21b-863c669d439d",
   "metadata": {
    "tags": []
   },
   "source": [
    "### Documentation: \n",
    "\n",
    "Comments **in code cells** (e.g., meaning of variables, parameters, purpose of functions) are necessary but not sufficient.\n",
    "\n",
    "You are expected to give full explanations of steps taken in your solution (in **Markdown cells**), as well as discussion of results and their meaning.\n",
    "\n",
    "Do not be afraid of being too verbose or too elementary, explain as if to someone learning."
   ]
  },
  {
   "cell_type": "markdown",
   "id": "de26c667-4256-4b2a-bfb8-cc11bc9a10bb",
   "metadata": {},
   "source": [
    "### External sources\n",
    "\n",
    "Getting _inspiration_ from any book, document, blog, web page, even mimicking solutions given in there, is **allowed and encouraged,** provided you give a **proper reference,** understand every such material, and explain it in you own words, even more exhaustively.\n",
    "\n",
    "Do not **copy/paste literally large chunks of code** I will detect it, believe me, even missing source reference. Bleak consequences."
   ]
  },
  {
   "cell_type": "markdown",
   "id": "52ca45a3-4eab-4ff4-94d1-0fac33d6e15a",
   "metadata": {},
   "source": [
    "### Deadline:\n",
    "\n",
    "Completed assignments are due on Monday, April 17. They are to be uploaded to the Virtual Campus."
   ]
  },
  {
   "cell_type": "markdown",
   "id": "75c5d5eb",
   "metadata": {},
   "source": [
    "-------------------------------------------------------------------------------\n",
    "# Exercise 1\n",
    "-------------------------------------------------------------------------------\n",
    "\n",
    "## Statement"
   ]
  },
  {
   "cell_type": "markdown",
   "id": "acceptable-lender",
   "metadata": {},
   "source": [
    "<h1 style=\"color:blue\">01 - Stan version of a conjugate prior problem</h1>\n",
    "\n",
    "<h2 style=\"color:blue\">Modelling Earthquake Waiting Times</h2>"
   ]
  },
  {
   "cell_type": "markdown",
   "id": "exceptional-marina",
   "metadata": {},
   "source": [
    "Consider the problem in `Exponential.02.Earthquake` (notebook in 2023-03-27 folder), where the goal is to study earthquake waiting times.\n",
    "\n",
    "Likelihood is modelled as an $\\expdist(\\lambda)$ and $\\lambda$ is given a conjugate prior, $\\lambda\\sim\\gammadist(\\alpha,\\beta)$.\n",
    "\n",
    "In the `Exponential.02.Earthquake` notebook some simulations are performed for:\n",
    "\n",
    "01. Prior pdf for $\\lambda$.\n",
    "02. Prior predictive pdf for the waiting time.\n",
    "03. Posterior pdf for $\\lambda$.\n",
    "04. Posterior predictive for new waiting time.\n",
    "\n",
    "using known theoretical (analytical) descriptions of these distributions.\n",
    "\n",
    "Your task is to redo these simulations using Stan (avoiding conjugate prior formulas), then compare your results to the analytical ones. \n",
    "\n",
    "Use this comparison to tune up adjustable parameters in Stan sampling, such as chain length. "
   ]
  },
  {
   "cell_type": "markdown",
   "id": "ef213573",
   "metadata": {},
   "source": [
    "-------------------------------------------------------------------------------\n",
    "# Exercise 1\n",
    "-------------------------------------------------------------------------------\n",
    "\n",
    "## Solution"
   ]
  },
  {
   "cell_type": "code",
   "execution_count": 1,
   "id": "a589db3a",
   "metadata": {
    "vscode": {
     "languageId": "r"
    }
   },
   "outputs": [
    {
     "name": "stderr",
     "output_type": "stream",
     "text": [
      "Loading required package: rstan\n",
      "\n",
      "Loading required package: StanHeaders\n",
      "\n",
      "\n",
      "rstan version 2.26.22 (Stan version 2.26.1)\n",
      "\n",
      "\n",
      "For execution on a local, multicore CPU with excess RAM we recommend calling\n",
      "options(mc.cores = parallel::detectCores()).\n",
      "To avoid recompilation of unchanged Stan programs, we recommend calling\n",
      "rstan_options(auto_write = TRUE)\n",
      "For within-chain threading using `reduce_sum()` or `map_rect()` Stan functions,\n",
      "change `threads_per_chain` option:\n",
      "rstan_options(threads_per_chain = 1)\n",
      "\n",
      "\n",
      "Do not specify '-march=native' in 'LOCAL_CPPFLAGS' or a Makevars file\n",
      "\n",
      "Loading required package: actuar\n",
      "\n",
      "\n",
      "Attaching package: 'actuar'\n",
      "\n",
      "\n",
      "The following objects are masked from 'package:stats':\n",
      "\n",
      "    sd, var\n",
      "\n",
      "\n",
      "The following object is masked from 'package:grDevices':\n",
      "\n",
      "    cm\n",
      "\n",
      "\n"
     ]
    }
   ],
   "source": [
    "require(rstan)\n",
    "options(mc.cores = parallel::detectCores())\n",
    "rstan_options(auto_write = TRUE)\n",
    "# install.packages(\"actuar\", dependencies=TRUE,repos= \"https://cloud.r-project.org\")\n",
    "require(actuar)  # for plotting analytical predictive distributions"
   ]
  },
  {
   "cell_type": "markdown",
   "id": "b9a331da",
   "metadata": {},
   "source": [
    "### 1 & 2: Simulation of the prior pdf for $\\lambda$, $p(\\theta)$, and the prior predictive pdf for $y$, $p(x)$"
   ]
  },
  {
   "cell_type": "markdown",
   "id": "f3592a83",
   "metadata": {},
   "source": [
    "First, we want to perform simulations using Stan for:\n",
    "1. The prior pdf for $\\lambda$, assuming $\\lambda \\sim \\mathrm{Gamma}(\\alpha, \\beta)$\n",
    "2. The prior (predictive) pdf for the waiting time, $y$, assuming $y \\sim \\expdist(\\lambda)$"
   ]
  },
  {
   "cell_type": "markdown",
   "id": "cb329178",
   "metadata": {},
   "source": [
    "Let $\\theta$ be the simulation of the prior pdf for $\\lambda$. Then, we have to define a model in Stan which takes $\\theta$ as **parameter**, just with $\\alpha$ & $\\beta$ as input (our prior knowledge). We will take $\\alpha = 1$ and $\\beta = 30$ as prior knowledge in the same fashion as the `Exponential.02.Earthquake` notebook."
   ]
  },
  {
   "cell_type": "code",
   "execution_count": 2,
   "id": "5e46dc88",
   "metadata": {
    "vscode": {
     "languageId": "r"
    }
   },
   "outputs": [],
   "source": [
    "alpha.prior <- 1\n",
    "beta.prior <- 30"
   ]
  },
  {
   "cell_type": "markdown",
   "id": "d62ad51e",
   "metadata": {},
   "source": [
    "Below, the model code for Stan is defined (very similar to those present in `Exponential.01.Claims` notebook). Let $y_{\\mathrm{pred}}$ be the simulation of the likelihood. Note that this will be **obtained** as 'generated quantity' from the simulation of the prior pdf assuming $y \\sim \\expdist (\\lambda)$.: "
   ]
  },
  {
   "cell_type": "code",
   "execution_count": 3,
   "id": "07a6d7f6",
   "metadata": {
    "vscode": {
     "languageId": "r"
    }
   },
   "outputs": [],
   "source": [
    "prior.pdf.stan.model.code <- \"\n",
    "data {\n",
    "        real<lower=0> prior_a;\n",
    "        real<lower=0> prior_b;\n",
    "    }\n",
    "\n",
    "parameters {\n",
    "        real<lower=0.00001> theta;\n",
    "    }\n",
    "\n",
    "model {\n",
    "        theta ~ gamma(prior_a,prior_b);\n",
    "    }\n",
    "\n",
    "generated quantities {\n",
    "        real y_pred;\n",
    "        y_pred = exponential_rng(theta);\n",
    "    }\n",
    "    \""
   ]
  },
  {
   "cell_type": "markdown",
   "id": "7b01be81",
   "metadata": {},
   "source": [
    "We then compile the model with the ``stan_model`` directive:"
   ]
  },
  {
   "cell_type": "code",
   "execution_count": 4,
   "id": "55895269",
   "metadata": {
    "vscode": {
     "languageId": "r"
    }
   },
   "outputs": [],
   "source": [
    "prior.pdf.stan.Dso <- stan_model(model_code=prior.pdf.stan.model.code)"
   ]
  },
  {
   "cell_type": "markdown",
   "id": "b7d9a90d",
   "metadata": {},
   "source": [
    "Afterwards, we define as data the values of $\\alpha$ and $\\beta$, to perform the ``sampling`` for the prior pdf:"
   ]
  },
  {
   "cell_type": "code",
   "execution_count": 5,
   "id": "05fc0d1b",
   "metadata": {
    "vscode": {
     "languageId": "r"
    }
   },
   "outputs": [
    {
     "name": "stdout",
     "output_type": "stream",
     "text": [
      "\n",
      "SAMPLING FOR MODEL 'anon_model' NOW (CHAIN 1).\n",
      "Chain 1: \n",
      "Chain 1: Gradient evaluation took 1.3e-05 seconds\n",
      "Chain 1: 1000 transitions using 10 leapfrog steps per transition would take 0.13 seconds.\n",
      "Chain 1: Adjust your expectations accordingly!\n",
      "Chain 1: \n",
      "Chain 1: \n",
      "Chain 1: Iteration:    1 / 10000 [  0%]  (Warmup)\n",
      "Chain 1: Iteration: 1000 / 10000 [ 10%]  (Warmup)\n",
      "Chain 1: Iteration: 2000 / 10000 [ 20%]  (Warmup)\n",
      "Chain 1: Iteration: 3000 / 10000 [ 30%]  (Warmup)\n",
      "Chain 1: Iteration: 4000 / 10000 [ 40%]  (Warmup)\n",
      "Chain 1: Iteration: 5000 / 10000 [ 50%]  (Warmup)\n",
      "Chain 1: Iteration: 5001 / 10000 [ 50%]  (Sampling)\n",
      "Chain 1: Iteration: 6000 / 10000 [ 60%]  (Sampling)\n",
      "Chain 1: Iteration: 7000 / 10000 [ 70%]  (Sampling)\n",
      "Chain 1: Iteration: 8000 / 10000 [ 80%]  (Sampling)\n",
      "Chain 1: Iteration: 9000 / 10000 [ 90%]  (Sampling)\n",
      "Chain 1: Iteration: 10000 / 10000 [100%]  (Sampling)\n",
      "Chain 1: \n",
      "Chain 1:  Elapsed Time: 0.031 seconds (Warm-up)\n",
      "Chain 1:                0.033 seconds (Sampling)\n",
      "Chain 1:                0.064 seconds (Total)\n",
      "Chain 1: \n"
     ]
    }
   ],
   "source": [
    "prior.dat <- list(prior_a=alpha.prior, prior_b=beta.prior)\n",
    "prior.fit <- sampling(prior.pdf.stan.Dso, data = prior.dat, iter = 10000, chains=1, warmup = 5000, thin = 1)"
   ]
  },
  {
   "cell_type": "markdown",
   "id": "da6a1cda",
   "metadata": {},
   "source": [
    "And finally we can just extract the prior pdf's $\\theta$ and $y_{\\mathrm{pred}}$ using the ``extract`` function:"
   ]
  },
  {
   "cell_type": "code",
   "execution_count": 6,
   "id": "b0dcc364",
   "metadata": {
    "vscode": {
     "languageId": "r"
    }
   },
   "outputs": [],
   "source": [
    "theta.prior <- extract(prior.fit, 'theta')\n",
    "theta.prior <- unlist(theta.prior, use.names=FALSE) # prior lambda\n",
    "y_pred.prior <- extract(prior.fit, 'y_pred')\n",
    "y_pred.prior <- unlist(theta.prior, use.names=FALSE) # prior predictive y_pred (waiting time)"
   ]
  },
  {
   "cell_type": "markdown",
   "id": "cb7ed3b7",
   "metadata": {},
   "source": [
    "#### Analytical comparison of the results"
   ]
  },
  {
   "cell_type": "markdown",
   "id": "b64bad52",
   "metadata": {
    "vscode": {
     "languageId": "r"
    }
   },
   "source": [
    "As found in the ```Exponential.02.Earthquake``` notebook, the prior predictive distribution has analytical expression $f(y)$ being a **Pareto II (Lomax)**. This allows us to compare our simulations with the analytical approach, both for the prior pdf $\\lambda$ (since its analytical expression is given by a $\\mathrm{Gamma}(\\alpha, \\beta)$ distribution) and the prior predictive pdf for the waiting times. Below we plot them, both analytically and from our Stan's simulations:"
   ]
  },
  {
   "cell_type": "code",
   "execution_count": 12,
   "id": "bda7eca2",
   "metadata": {
    "vscode": {
     "languageId": "r"
    }
   },
   "outputs": [
    {
     "data": {
      "image/png": "[encoded data removed]",
      "text/plain": [
       "Plot with title \"Waiting Time\""
      ]
     },
     "metadata": {
      "image/png": {
       "height": 420,
       "width": 840
      }
     },
     "output_type": "display_data"
    }
   ],
   "source": [
    "options(repr.plot.width=14,repr.plot.height=7)\n",
    "old.par<- par(mfrow=c(1,2))\n",
    "\n",
    "plot(density(theta.prior), xlab=expression(theta.prior), col=grey(0, 0.8),lwd=3, main=\"Lambda\", ylim=c(0, 30))\n",
    "curve(dgamma(x, alpha.prior, beta.prior), add=TRUE, col=2)\n",
    "legend(x=0.15,y=23,legend=c(\"Analytical prior\", \"Simulated prior\"), col=c(2, grey(0, 0.8)), lty=c(1,1), bty=\"n\",lwd=2)\n",
    "\n",
    "x_lim <- c(0, 10)\n",
    "plot(density(y_pred.prior), xlab=expression(y_pred.prior), col=grey(0, 0.8),lwd=3, xlim=x_lim, main=\"Waiting Time\")\n",
    "curve(dpareto(x, alpha.prior, beta.prior), add=TRUE, col=2, lwd=1.5, lty=2,5)\n",
    "legend(x=x_lim[1] - x_lim[1] / 5, y=15, legend=c(\"Analytical prior predictive\", \"Simulated prior predictive\"), \n",
    "       col=c(2, grey(0, 0.8)), lty=c(2,1), bty=\"n\",lwd=3)\n",
    "\n",
    "par(old.par)"
   ]
  },
  {
   "cell_type": "markdown",
   "id": "95348bab",
   "metadata": {},
   "source": [
    "Which seems to present some discrepancies in the case of the prior predictive pdf, but models relatively well the prior pdf. In fact, we could compare the expected value and variance obtained with the simulation, with respect to the analytical approach knowing that:\n",
    "\n",
    "- For a $\\lambda \\sim \\mathrm{Gamma}(\\alpha, \\beta)$:\n",
    "$$\\mathbb{E}[\\lambda] = \\frac{\\alpha}{\\beta}$$\n",
    "$$\\mathrm{Var}[\\lambda] = \\frac{\\alpha}{\\beta^2}$$"
   ]
  },
  {
   "cell_type": "code",
   "execution_count": 8,
   "id": "8a70c938",
   "metadata": {
    "vscode": {
     "languageId": "r"
    }
   },
   "outputs": [
    {
     "data": {
      "text/html": [
       "0.0333"
      ],
      "text/latex": [
       "0.0333"
      ],
      "text/markdown": [
       "0.0333"
      ],
      "text/plain": [
       "[1] 0.0333"
      ]
     },
     "metadata": {},
     "output_type": "display_data"
    },
    {
     "data": {
      "text/html": [
       "0.0333"
      ],
      "text/latex": [
       "0.0333"
      ],
      "text/markdown": [
       "0.0333"
      ],
      "text/plain": [
       "[1] 0.0333"
      ]
     },
     "metadata": {},
     "output_type": "display_data"
    }
   ],
   "source": [
    "# analytical expected value and sd\n",
    "lambda.prior.expectation <- alpha.prior / beta.prior\n",
    "lambda.prior.variance <- alpha.prior / beta.prior^2\n",
    "lambda.prior.sd <- sqrt(lambda.prior.variance)\n",
    "\n",
    "round(lambda.prior.expectation, 4)\n",
    "round(lambda.prior.sd, 4)"
   ]
  },
  {
   "cell_type": "code",
   "execution_count": 9,
   "id": "3d8bb8d8",
   "metadata": {
    "vscode": {
     "languageId": "r"
    }
   },
   "outputs": [
    {
     "data": {
      "text/html": [
       "0.033"
      ],
      "text/latex": [
       "0.033"
      ],
      "text/markdown": [
       "0.033"
      ],
      "text/plain": [
       "[1] 0.033"
      ]
     },
     "metadata": {},
     "output_type": "display_data"
    },
    {
     "data": {
      "text/html": [
       "0.0341"
      ],
      "text/latex": [
       "0.0341"
      ],
      "text/markdown": [
       "0.0341"
      ],
      "text/plain": [
       "[1] 0.0341"
      ]
     },
     "metadata": {},
     "output_type": "display_data"
    }
   ],
   "source": [
    "theta.prior.expectation <- mean(theta.prior)\n",
    "theta.prior.sd <- sqrt(var(theta.prior))\n",
    "\n",
    "round(theta.prior.expectation, 4)\n",
    "round(theta.prior.sd, 4)"
   ]
  },
  {
   "cell_type": "markdown",
   "id": "065c6cb4",
   "metadata": {},
   "source": [
    "Which are very close results! In a similar fashion, we know that:\n",
    "\n",
    "- For $y \\sim \\expdist(\\lambda) $ with the previously defined $\\lambda$:\n",
    "$$ \\operatorname{E}(Y)=\\dfrac{\\beta}{\\alpha-1},\\mskip20mu\\alpha>1,\\mskip30mu $$\n",
    "$$ \\operatorname{var}(Y)=\\dfrac{\\beta^{2}\\,\\alpha}{(\\alpha-1)^{2}\\,(\\alpha-2)},\\mskip20mu \\alpha>2, $$\n",
    "\n",
    "But since our $\\alpha = 1$ these expressions do not apply."
   ]
  },
  {
   "cell_type": "markdown",
   "id": "bce14f9b",
   "metadata": {},
   "source": [
    "### 3 & 4: Simulation of the posterior pdf for $\\lambda$, $p(\\theta|x)$, and the posterior predictive pdf for $y$"
   ]
  },
  {
   "cell_type": "markdown",
   "id": "71daea3a",
   "metadata": {},
   "source": [
    "Now, we want to perform simulations using Stan for:\n",
    "\n",
    "3. The prior pdf for $\\lambda$, with the new knowledge\n",
    "4. The posterior (predictive) pdf for new waiting time, obtained from $p(\\theta|x)$"
   ]
  },
  {
   "cell_type": "markdown",
   "id": "7089b57f",
   "metadata": {},
   "source": [
    "To simulate the posterior pdf's we will need, apart from the prior knowledge, some observations. Thus, we will take the same observations' vector as the ``Exponential.02.Earthquake`` notebook's:"
   ]
  },
  {
   "cell_type": "code",
   "execution_count": 13,
   "id": "0214a485",
   "metadata": {
    "vscode": {
     "languageId": "r"
    }
   },
   "outputs": [],
   "source": [
    "obs <- c(16, 8, 114, 60, 4, 23, 30, 105)\n",
    "n <- length(obs)"
   ]
  },
  {
   "cell_type": "markdown",
   "id": "e7d77a55",
   "metadata": {},
   "source": [
    "Now, we define a model to simulate the posterior pdfs, in which $\\theta$ will model $\\lambda$ as parameter and the predictive pdf for $y$ will be obtained as 'generated quantity' $y_{\\mathrm{pred}}$, but now $n$ and $y[n]$ will receive the observations to include them in the simulation:"
   ]
  },
  {
   "cell_type": "code",
   "execution_count": 14,
   "id": "91757631",
   "metadata": {
    "vscode": {
     "languageId": "r"
    }
   },
   "outputs": [],
   "source": [
    "posterior.pdf.stan.model.code <- \"\n",
    "data {\n",
    "        real<lower=0> prior_a;\n",
    "        real<lower=0> prior_b;\n",
    "\n",
    "        int<lower=0> n;\n",
    "        real<lower=0> y[n];\n",
    "    }\n",
    "\n",
    "parameters {\n",
    "        real<lower=0.00001> theta;\n",
    "    }\n",
    "\n",
    "model {\n",
    "        theta ~ gamma(prior_a,prior_b);\n",
    "        y ~ exponential(theta);\n",
    "    }\n",
    "\n",
    "generated quantities {\n",
    "        real y_pred;\n",
    "        y_pred = exponential_rng(theta);\n",
    "    }\n",
    "    \""
   ]
  },
  {
   "cell_type": "markdown",
   "id": "0c1f237d",
   "metadata": {},
   "source": [
    "We compile the model"
   ]
  },
  {
   "cell_type": "code",
   "execution_count": 15,
   "id": "cbaecda2",
   "metadata": {
    "vscode": {
     "languageId": "r"
    }
   },
   "outputs": [],
   "source": [
    "posterior.pdf.stan.Dso <- stan_model(model_code=posterior.pdf.stan.model.code)"
   ]
  },
  {
   "cell_type": "markdown",
   "id": "41d72a09",
   "metadata": {},
   "source": [
    "Then, we pass the observations and prior knowledge:"
   ]
  },
  {
   "cell_type": "code",
   "execution_count": 16,
   "id": "67446698",
   "metadata": {
    "vscode": {
     "languageId": "r"
    }
   },
   "outputs": [
    {
     "name": "stdout",
     "output_type": "stream",
     "text": [
      "\n",
      "SAMPLING FOR MODEL 'anon_model' NOW (CHAIN 1).\n",
      "Chain 1: \n",
      "Chain 1: Gradient evaluation took 1.8e-05 seconds\n",
      "Chain 1: 1000 transitions using 10 leapfrog steps per transition would take 0.18 seconds.\n",
      "Chain 1: Adjust your expectations accordingly!\n",
      "Chain 1: \n",
      "Chain 1: \n",
      "Chain 1: Iteration:     1 / 15000 [  0%]  (Warmup)\n",
      "Chain 1: Iteration:  1500 / 15000 [ 10%]  (Warmup)\n",
      "Chain 1: Iteration:  3000 / 15000 [ 20%]  (Warmup)\n",
      "Chain 1: Iteration:  4500 / 15000 [ 30%]  (Warmup)\n",
      "Chain 1: Iteration:  6000 / 15000 [ 40%]  (Warmup)\n",
      "Chain 1: Iteration:  7001 / 15000 [ 46%]  (Sampling)\n",
      "Chain 1: Iteration:  8500 / 15000 [ 56%]  (Sampling)\n",
      "Chain 1: Iteration: 10000 / 15000 [ 66%]  (Sampling)\n",
      "Chain 1: Iteration: 11500 / 15000 [ 76%]  (Sampling)\n",
      "Chain 1: Iteration: 13000 / 15000 [ 86%]  (Sampling)\n",
      "Chain 1: Iteration: 14500 / 15000 [ 96%]  (Sampling)\n",
      "Chain 1: Iteration: 15000 / 15000 [100%]  (Sampling)\n",
      "Chain 1: \n",
      "Chain 1:  Elapsed Time: 0.042 seconds (Warm-up)\n",
      "Chain 1:                0.048 seconds (Sampling)\n",
      "Chain 1:                0.09 seconds (Total)\n",
      "Chain 1: \n"
     ]
    }
   ],
   "source": [
    "posterior.dat <- list(n = n, y = obs, prior_a=alpha.prior, prior_b=beta.prior); \n",
    "posterior.fit <- sampling(posterior.pdf.stan.Dso, data = posterior.dat, iter = 15000, chains=1, warmup = 7000, thin = 1) "
   ]
  },
  {
   "cell_type": "markdown",
   "id": "be7c2c04",
   "metadata": {},
   "source": [
    "And we finally extract the results"
   ]
  },
  {
   "cell_type": "code",
   "execution_count": 17,
   "id": "f9ff74bf",
   "metadata": {
    "vscode": {
     "languageId": "r"
    }
   },
   "outputs": [],
   "source": [
    "theta.posterior <- extract(posterior.fit, 'theta')\n",
    "theta.posterior <- unlist(theta.posterior, use.names=FALSE) # posterior lambda\n",
    "y_pred.posterior <- extract(posterior.fit, 'y_pred')\n",
    "y_pred.posterior <- unlist(y_pred.posterior, use.names=FALSE) # posterior predictive expecting time"
   ]
  },
  {
   "cell_type": "markdown",
   "id": "d5e4d496",
   "metadata": {},
   "source": [
    "#### Analytical comparison of the results"
   ]
  },
  {
   "cell_type": "markdown",
   "id": "4faffd06",
   "metadata": {},
   "source": [
    "We can compare now our simulations with the analytical expressions taking advantage we are dealing with a conjugate model. Then, we know that the posterior pdf for $\\lambda$ is also given by a $\\mathrm{Gamma}$ distribution but with updated parameters. Namely, $\\lambda\\sim\\operatorname{Gamma}(\\alpha',\\beta')$ with:\n",
    "\n",
    "$$\n",
    "    \\left\\{\n",
    "    \\begin{array}{lcl}\n",
    "    \\alpha'&=&\\alpha+n,\\\\[0.2cm]\n",
    "    \\beta'&=&\\beta+n\\,\\overline{y}.\n",
    "    \\end{array}\\right.\n",
    "$$"
   ]
  },
  {
   "cell_type": "markdown",
   "id": "de9298c3",
   "metadata": {},
   "source": [
    "Let us define them:"
   ]
  },
  {
   "cell_type": "code",
   "execution_count": 18,
   "id": "acbb32bd",
   "metadata": {
    "vscode": {
     "languageId": "r"
    }
   },
   "outputs": [],
   "source": [
    "ybar<-mean(obs)\n",
    "nybar<-sum(obs)\n",
    "\n",
    "alpha.posterior <- alpha.prior + n\n",
    "beta.posterior <- beta.prior + nybar"
   ]
  },
  {
   "cell_type": "markdown",
   "id": "10ce8371",
   "metadata": {},
   "source": [
    "And since the posterior $\\lambda$ is distributed as a $\\mathrm{\\Gamma}$ we can recall the former expressions for the expected value and standard deviation:"
   ]
  },
  {
   "cell_type": "code",
   "execution_count": 19,
   "id": "54734b94",
   "metadata": {
    "vscode": {
     "languageId": "r"
    }
   },
   "outputs": [
    {
     "data": {
      "text/html": [
       "0.0231"
      ],
      "text/latex": [
       "0.0231"
      ],
      "text/markdown": [
       "0.0231"
      ],
      "text/plain": [
       "[1] 0.0231"
      ]
     },
     "metadata": {},
     "output_type": "display_data"
    },
    {
     "data": {
      "text/html": [
       "0.0077"
      ],
      "text/latex": [
       "0.0077"
      ],
      "text/markdown": [
       "0.0077"
      ],
      "text/plain": [
       "[1] 0.0077"
      ]
     },
     "metadata": {},
     "output_type": "display_data"
    }
   ],
   "source": [
    "lambda.posterior.expectation <- alpha.posterior / beta.posterior\n",
    "lambda.posterior.variance <- alpha.posterior / beta.posterior^2\n",
    "lambda.posterior.sd <- sqrt(lambda.posterior.variance)\n",
    "round(lambda.posterior.expectation, 4)\n",
    "round(lambda.posterior.sd, 4)"
   ]
  },
  {
   "cell_type": "markdown",
   "id": "6d406fb6",
   "metadata": {},
   "source": [
    "Which do not differ too much from the obtained from our simulations! "
   ]
  },
  {
   "cell_type": "code",
   "execution_count": 20,
   "id": "a0878aec",
   "metadata": {
    "vscode": {
     "languageId": "r"
    }
   },
   "outputs": [
    {
     "data": {
      "text/html": [
       "0.0231"
      ],
      "text/latex": [
       "0.0231"
      ],
      "text/markdown": [
       "0.0231"
      ],
      "text/plain": [
       "[1] 0.0231"
      ]
     },
     "metadata": {},
     "output_type": "display_data"
    },
    {
     "data": {
      "text/html": [
       "0.0076"
      ],
      "text/latex": [
       "0.0076"
      ],
      "text/markdown": [
       "0.0076"
      ],
      "text/plain": [
       "[1] 0.0076"
      ]
     },
     "metadata": {},
     "output_type": "display_data"
    }
   ],
   "source": [
    "theta.posterior.expectation <- mean(theta.posterior)\n",
    "theta.posterior.sd <- sqrt(var(theta.posterior))\n",
    "\n",
    "round(theta.posterior.expectation, 4)\n",
    "round(theta.posterior.sd, 4)"
   ]
  },
  {
   "cell_type": "markdown",
   "id": "ca4d2a2f",
   "metadata": {},
   "source": [
    "Let us finally plot the posterior pdf both for $\\lambda$ and the predictive pdf for the waiting time, comparing them with their analytical expressions:"
   ]
  },
  {
   "cell_type": "code",
   "execution_count": 30,
   "id": "ddf9e02a",
   "metadata": {
    "vscode": {
     "languageId": "r"
    }
   },
   "outputs": [
    {
     "data": {
      "image/png": "[encoded data removed]",
      "text/plain": [
       "Plot with title \"Waiting Time\""
      ]
     },
     "metadata": {
      "image/png": {
       "height": 420,
       "width": 840
      }
     },
     "output_type": "display_data"
    }
   ],
   "source": [
    "options(repr.plot.width=14,repr.plot.height=7)\n",
    "old.par<- par(mfrow=c(1,2))\n",
    "\n",
    "plot(density(theta.posterior), xlab=expression(theta.posterior), col=grey(0, 0.8),lwd=3, main=\"Lambda\")\n",
    "curve(dgamma(x, alpha.posterior, beta.posterior), add=TRUE, col=2)\n",
    "legend(x=0.0255,y=40,legend=c(\"Analytical posterior\", \"Simulated posterior\"), col=c(2, grey(0, 0.8)), lty=c(1,1), bty=\"n\",lwd=2)\n",
    "\n",
    "plot(density(y_pred.posterior), xlab=expression(y_pred.posterior), col=grey(0, 0.8),lwd=3, xlim=c(0, 800), main=\"Waiting Time\")\n",
    "curve(dpareto(x, alpha.posterior, beta.posterior), add=TRUE, col=2, lwd=1.5, lty=2,5)\n",
    "legend(x=250,y=0.0125,legend=c(\"Analytical posterior predictive\", \"Simulated posterior predictive\"), \n",
    "       col=c(2, grey(0, 0.8)), lty=c(2,1), bty=\"n\",lwd=3)\n",
    "\n",
    "par(old.par)"
   ]
  },
  {
   "cell_type": "markdown",
   "id": "9ec5682c",
   "metadata": {},
   "source": [
    "Yielding a better fit!"
   ]
  },
  {
   "cell_type": "markdown",
   "id": "1df3dfa6",
   "metadata": {},
   "source": [
    "### Improvements"
   ]
  },
  {
   "cell_type": "markdown",
   "id": "0516b46a",
   "metadata": {},
   "source": [
    "The convergency and quality of the sampling process when there are observations can be improved by changing some parameters. The main idea is to use the warmup parameter to decrease the possibility of divergencies; however, this does not prevent the apparison of bias in the process. To reduce the bias and ensure the convergence does not depend on the particular simulation, the best idea is to increment the number of chains up to 2 or 3. This is what is done below with the posterior pdf's simulations:"
   ]
  },
  {
   "cell_type": "code",
   "execution_count": 35,
   "id": "d8204aed",
   "metadata": {
    "vscode": {
     "languageId": "r"
    }
   },
   "outputs": [
    {
     "data": {
      "image/png": "[encoded data removed]",
      "text/plain": [
       "Plot with title \"Waiting Time\""
      ]
     },
     "metadata": {
      "image/png": {
       "height": 420,
       "width": 840
      }
     },
     "output_type": "display_data"
    }
   ],
   "source": [
    "warm_up <- 10000\n",
    "chains_num <- 3\n",
    "\n",
    "##########################\n",
    "\n",
    "posterior.dat <- list(n = n, y = obs, prior_a=alpha.prior, prior_b=beta.prior); \n",
    "posterior.fit <- sampling(posterior.pdf.stan.Dso, data = posterior.dat, iter = 15000, chains=chains_num, warmup = warm_up, thin = 1) \n",
    "\n",
    "theta.posterior <- extract(posterior.fit, 'theta')\n",
    "theta.posterior <- unlist(theta.posterior, use.names=FALSE) # posterior lambda\n",
    "y_pred.posterior <- extract(posterior.fit, 'y_pred')\n",
    "y_pred.posterior <- unlist(y_pred.posterior, use.names=FALSE) # posterior predictive expecting time\n",
    "\n",
    "options(repr.plot.width=14,repr.plot.height=7)\n",
    "old.par<- par(mfrow=c(1,2))\n",
    "\n",
    "plot(density(theta.posterior), xlab=expression(theta.posterior), col=grey(0, 0.8),lwd=3, main=\"Lambda\")\n",
    "curve(dgamma(x, alpha.posterior, beta.posterior), add=TRUE, col=2)\n",
    "legend(x=0.0255,y=40,legend=c(\"Analytical posterior\", \"Simulated posterior\"), col=c(2, grey(0, 0.8)), lty=c(1,1), bty=\"n\",lwd=2)\n",
    "\n",
    "plot(density(y_pred.posterior), xlab=expression(y_pred.posterior), col=grey(0, 0.8),lwd=3, xlim=c(0, 800), main=\"Waiting Time\")\n",
    "curve(dpareto(x, alpha.posterior, beta.posterior), add=TRUE, col=2, lwd=1.5, lty=2,5)\n",
    "legend(x=250,y=0.0125,legend=c(\"Analytical posterior predictive\", \"Simulated posterior predictive\"), \n",
    "       col=c(2, grey(0, 0.8)), lty=c(2,1), bty=\"n\",lwd=3)\n",
    "\n",
    "par(old.par)"
   ]
  },
  {
   "cell_type": "markdown",
   "id": "571fcf1d",
   "metadata": {},
   "source": [
    "---------------------------------------------------------------------------------------------------\n",
    "# Exercise 2\n",
    "---------------------------------------------------------------------------------------------------\n",
    "## Statement"
   ]
  },
  {
   "cell_type": "markdown",
   "id": "upper-radio",
   "metadata": {},
   "source": [
    "<h1 style=\"color:blue\">02 - A more elaborate mixture prior for the spinning coin</h1>"
   ]
  },
  {
   "cell_type": "markdown",
   "id": "disturbed-friendship",
   "metadata": {},
   "source": [
    "(continued from Diaconis experiment)"
   ]
  },
  {
   "cell_type": "markdown",
   "id": "operational-roommate",
   "metadata": {},
   "source": [
    "On reflection, it was decided that tails had come up more often than heads in the past; further some coins seemed likely to be symmetric. \n",
    "\n",
    "Thus, a final approximation to the prior was taken as:\n",
    "\n",
    "$$\n",
    "    0.50\\cdot\\betadist(10,20) + 0.20\\cdot\\betadist(15,15) + 0.30\\cdot\\betadist(20,10).\n",
    "$$\n",
    "\n",
    "Same observed data as in the previous model."
   ]
  },
  {
   "cell_type": "code",
   "execution_count": 31,
   "id": "continental-diesel",
   "metadata": {
    "vscode": {
     "languageId": "r"
    }
   },
   "outputs": [],
   "source": [
    "# Number of trials\n",
    "n<-10\n",
    "# Observed x\n",
    "x.obs<-3"
   ]
  },
  {
   "cell_type": "markdown",
   "id": "fluid-moderator",
   "metadata": {},
   "source": [
    "Perform a complete Bayesian analysis of this model, in close parallel to the first example.\n",
    "\n",
    "(1) Using the theoretical formulas (prior predictive pmf, posterior pdf, posterior predictive pmf)\n",
    "\n",
    "(2) Using independent random numbers (`rbeta()` functions, etc.)\n",
    "\n",
    "(3) JAGS version\n",
    "\n",
    "(4)$ {}^{\\star}$ Stan version. "
   ]
  },
  {
   "cell_type": "markdown",
   "id": "pursuant-martin",
   "metadata": {},
   "source": [
    ">$ (\\star)$ Hint: this one **is difficult** due to intrinsic limitations in Stan:   \n",
    "Stan does not allow integer parameters thus the JAGS code cannot be translated literally.  \n",
    "\n",
    ">As a matter of fact even a Stan version of the two-components prior mixture in `Mixture.priors.01.Stan.ipynb` \n",
    "is tricky.   \n",
    "There are several possible workarounds; try to find one but do not despair if you fail to develop a workable version."
   ]
  },
  {
   "cell_type": "markdown",
   "id": "c09506d1",
   "metadata": {},
   "source": [
    "Diaconis and Ylvisaker (1985) compare both mixture conjugate priors with a $ \\operatorname{Unif}(0,1)$ prior with the data above. \n",
    "\n",
    "Comparing the MAP estimators, they observe that in a first approximation, they coincide, but spreads do depend on the prior."
   ]
  },
  {
   "cell_type": "markdown",
   "id": "40877126",
   "metadata": {},
   "source": [
    "They repeat the computations above with a larger sample. "
   ]
  },
  {
   "cell_type": "code",
   "execution_count": null,
   "id": "99e655cd",
   "metadata": {
    "vscode": {
     "languageId": "r"
    }
   },
   "outputs": [],
   "source": [
    "n1<-50\n",
    "x1.obs<-14"
   ]
  },
  {
   "cell_type": "markdown",
   "id": "7c4fa2f0",
   "metadata": {},
   "source": [
    "Their conclusion is that with small data, prior matters, but with larger samples, a finely tuned choice of prior is less important."
   ]
  },
  {
   "cell_type": "markdown",
   "id": "887f5ed9",
   "metadata": {},
   "source": [
    "# Introduction of the model\n",
    "\n",
    "We consider a Beta-Bernoulli model that makes use of a mixture of three Beta distributions as the approximation for the prior. </br> The independent experiments considered are modeled as a Binomial distribution of size n. \n",
    "\n",
    "In particular, the likelihood is:\n",
    "$$x \\sim \\binomdist (\\text{size}=n, \\, \\text{prob}=\\theta)$$\n",
    "\n",
    "and the prior distribution:\n",
    "$$\\theta \\sim 0.50 \\cdot \\betadist(10,20) + 0.20 \\cdot \\betadist(15,15) + 0.30 \\cdot \\betadist(20,10) $$\n"
   ]
  },
  {
   "cell_type": "code",
   "execution_count": null,
   "id": "f4e0fa45",
   "metadata": {
    "vscode": {
     "languageId": "r"
    }
   },
   "outputs": [
    {
     "data": {
      "image/png": "[encoded data removed]",
      "text/plain": [
       "Plot with title “Prior mixture cdf”"
      ]
     },
     "metadata": {},
     "output_type": "display_data"
    }
   ],
   "source": [
    "# Mixture prior: parameters definition -----------------------------------------\n",
    "prior.alpha1<-10\n",
    "prior.beta1<-20\n",
    "prior.alpha2<-15\n",
    "prior.beta2<-15\n",
    "prior.alpha3<-20\n",
    "prior.beta3<-10\n",
    "prior.omega1<-0.5\n",
    "prior.omega2<-0.2\n",
    "prior.omega3<-0.3\n",
    "\n",
    "# Define prior pdf -------------------------------------------------------------\n",
    "  mixture.prior.pdf<-function(theta){\n",
    "    return(prior.omega1*dbeta(theta,prior.alpha1,prior.beta1) + prior.omega2*dbeta(theta,prior.alpha2,prior.beta2) + prior.omega3*dbeta(theta,prior.alpha3,prior.beta3))\n",
    "}\n",
    "\n",
    "# Define prior cdf -------------------------------------------------------------\n",
    "mixture.prior.cdf<-function(theta){\n",
    "    return(prior.omega1*pbeta(theta,prior.alpha1,prior.beta1) + prior.omega2*pbeta(theta,prior.alpha2,prior.beta2) + prior.omega3*pbeta(theta,prior.alpha3,prior.beta3))\n",
    "}\n",
    "\n",
    "# Plot the prior pdf and cdf ---------------------------------------------------------\n",
    "options(repr.plot.width=18,repr.plot.height=7)\n",
    "par(mfrow=c(1,2))\n",
    "\n",
    "u<-seq(0,1,length=1000)\n",
    "v<-mixture.prior.pdf(u)\n",
    "plot(u,v,ylim=c(0,max(v)*1.05),xlim=c(-0.15,1.15),\n",
    "     ylab=\"P(θ=u)\",type=\"l\",lwd=3.5,col=\"blue\",main=sprintf(\"Prior mixture pdf\"))\n",
    "lines(c(-0.15,0),c(0,0),lwd=3.5,col=\"blue\")\n",
    "lines(c(1,1.15),c(0,0),lwd=3.5,col=\"blue\")\n",
    "\n",
    "u<-seq(0,1,length=1000)\n",
    "v<-mixture.prior.cdf(u)\n",
    "plot(u,v,ylim=c(0,max(v)*1.05),xlim=c(-0.15,1.15),\n",
    "     ylab=\"P(θ<u)\",type=\"l\",lwd=3.5,col=\"blue\",main=sprintf(\"Prior mixture cdf\"))\n",
    "lines(c(-0.15,0),c(0,0),lwd=3.5,col=\"blue\")\n",
    "lines(c(1,1.15),c(0,0),lwd=3.5,col=\"blue\")"
   ]
  },
  {
   "cell_type": "markdown",
   "id": "b577829b",
   "metadata": {},
   "source": [
    "# Bayesian analysis of the model"
   ]
  },
  {
   "cell_type": "markdown",
   "id": "bf4c73c0",
   "metadata": {},
   "source": [
    "## (1) Using the theoretical formulas (prior predictive pmf, posterior pdf, posterior predictive pmf)"
   ]
  },
  {
   "cell_type": "markdown",
   "id": "573f2aab",
   "metadata": {},
   "source": [
    "### Derivation of the posterior pdf and cdf\n",
    "\n",
    "Given the stated approximation of the prior, we can define the prior pdf as:\n",
    "\n",
    "$$ h(\\theta) = \\omega_1h_1(\\theta)+\\omega_2h_2(\\theta)+\\omega_3h_3(\\theta) $$\n",
    "\n",
    "And the likelihood given by the binomial as:\n",
    "\n",
    "$$ f(x\\mid \\theta)= {{n}\\choose{x}} \\theta^{x}(1-\\theta)^{n-x}, \\;\\;\\; x=0,1,\\ldots,n $$\n",
    "\n",
    "Then, the joint pdf is:\n",
    "\n",
    "$$ f(x,\\theta) = \\omega_1f_1(x,\\theta) + \\omega_2f_2(x,\\theta) + \\omega_3f_3(x,\\theta) $$\n",
    "\n",
    "where:\n",
    "\n",
    "$$ f_i(x,\\theta) = f(x|\\theta)\\cdot h_i(\\theta), \\;\\;\\; i=1,2,3 $$\n",
    "\n",
    "Integrating out $\\theta$, the marginal for $x$:\n",
    "\n",
    "$$ f(x) = \\omega_1f_1(x) + \\omega_2f_2(x) + \\omega_3f_3(x) $$\n",
    "\n",
    "where:\n",
    "\n",
    "$$ f_i(x)=\\int f(x|\\theta)\\cdot h_i(\\theta)d\\theta, \\;\\;\\; i = 1,2,3 $$\n",
    "\n",
    "Thus, the prior predictive pdf is a mixture of three _partial prior predictive pdf's,_ with the same coefficients, $ \\omega_1$, $\\omega_2$, and $\\omega_3$ as the prior.\n",
    "\n",
    "Now, to compute the *theoretical posterior pdf* we can use Bayes' formula:\n",
    "\n",
    "$$ h(\\theta|x) = \\frac{f(x,\\theta)}{f(x)} = \\frac{\\omega_1f_1(x,\\theta) + \\omega_2f_2(x,\\theta) + \\omega_3f_3(x,\\theta)}{\\omega_1f_1(x) + \\omega_2f_2(x) + \\omega_3f_3(x)} $$\n",
    "\n",
    "And using the notation:\n",
    "\n",
    "$$ h_{i}(\\theta|x)=\\frac{f_i(x,\\theta)}{f_i(x)}\\;\\;\\; i=1,2,3 $$\n",
    "\n",
    "The posterior pdf is:\n",
    "\n",
    "$$ h(\\theta|x) = \\hat{\\omega}_1(x)h_1(\\theta|x)+\\hat{\\omega}_2(x)h_2(\\theta|x)+\\hat{\\omega}_3(x)h_3(\\theta|x) $$\n",
    "\n",
    "where $ \\hat{\\omega}_i(x) = k\\omega_i f_i(x)$ and weighted so that the three constants add to 1.\n",
    "\n",
    "Then, to obtain $f_i(x)$.\n",
    "\n",
    "$$h_i(\\theta,\\alpha,\\beta)=\\theta^{\\alpha-1}(1-\\theta)^{\\beta-1}$$\n",
    "\n",
    "$$f_i(x)=\\int f(x\\mid \\theta)h_i(\\theta)d\\theta=\n",
    "\\int_0^1 \\left({{n}\\choose{x}} \\theta^{x}(1-\\theta)^{n-x}\\right)\n",
    "\\left(\\frac{1}{B(\\alpha,\\beta)}\\theta^{\\alpha-1}(1-\\theta)^{\\beta-1}\\right)d\\theta=\n",
    "$$\n",
    "$$\n",
    "={{n}\\choose{x}}\\frac{1}{B(\\alpha,\\beta)}\\int_0^1 \\theta^{\\alpha+x-1}(1-\\theta)^{\\beta+n-x-1}d\\theta=\n",
    "{{n}\\choose{x}}\\frac{B(\\alpha+x,\\beta+n-x)}{B(\\alpha,\\beta)}\\int_0^1 h_i(\\theta,\\alpha+x,\\beta+n-x)d\\theta=\n",
    "{{n}\\choose{x}}\\frac{B(\\alpha+x,\\beta+n-x)}{B(\\alpha,\\beta)}\n",
    "$$\n",
    "\n",
    "And thus we have,\n",
    "\n",
    "$$\n",
    "h_i(\\theta \\mid x)=\\dfrac{f_i(x,\\theta)}{f_i(x)}=\\frac{B(\\alpha,\\beta)}{{{n}\\choose{x}}B(\\alpha+x,\\beta+n-x)}\n",
    "\\frac{{{n}\\choose{x}}}{B(\\alpha,\\beta)}\\theta^{\\alpha+x-1}(1-\\theta)^{\\beta+n-x-1}=h_i(\\theta,\\alpha+x,\\beta+n-x)\n",
    "$$"
   ]
  },
  {
   "cell_type": "code",
   "execution_count": null,
   "id": "6a805790",
   "metadata": {
    "vscode": {
     "languageId": "r"
    }
   },
   "outputs": [
    {
     "data": {
      "image/png": "[encoded data removed]",
      "text/plain": [
       "Plot with title “Posterior mixture pdf”"
      ]
     },
     "metadata": {},
     "output_type": "display_data"
    }
   ],
   "source": [
    "# Posterior: parameters definition ---------------------------------------------\n",
    "posterior.alpha1<-prior.alpha1+x.obs\n",
    "posterior.beta1<-prior.beta1+n-x.obs\n",
    "posterior.alpha2<-prior.alpha2+x.obs\n",
    "posterior.beta2<-prior.beta2+n-x.obs\n",
    "posterior.alpha3<-prior.alpha3+x.obs\n",
    "posterior.beta3<-prior.beta3+n-x.obs\n",
    "\n",
    "# Marginals given the observation ----------------------------------------------\n",
    "f1<-choose(n,x.obs)*beta(posterior.alpha1,posterior.beta1)/beta(prior.alpha1,prior.beta1)\n",
    "f2<-choose(n,x.obs)*beta(posterior.alpha2,posterior.beta2)/beta(prior.alpha2,prior.beta2)\n",
    "f3<-choose(n,x.obs)*beta(posterior.alpha3,posterior.beta3)/beta(prior.alpha3,prior.beta3)\n",
    "\n",
    "# New normalized gamma functions -----------------------------------------------\n",
    "posterior.omega1<-prior.omega1*f1\n",
    "posterior.omega2<-prior.omega2*f2\n",
    "posterior.omega3<-prior.omega3*f3\n",
    "sum<-posterior.omega1+posterior.omega2+posterior.omega3\n",
    "posterior.omega1<-posterior.omega1/sum\n",
    "posterior.omega2<-posterior.omega2/sum\n",
    "posterior.omega3<-posterior.omega3/sum\n",
    "\n",
    "# Define posterior pdf ---------------------------------------------------------\n",
    "mixture.posterior.pdf<-function(theta){\n",
    "    return(posterior.omega1*dbeta(theta,posterior.alpha1,posterior.beta1)+posterior.omega2*dbeta(theta,posterior.alpha2,posterior.beta2)+posterior.omega3*dbeta(theta,posterior.alpha3,posterior.beta3))\n",
    "}\n",
    "\n",
    "# Define posterior cdf ---------------------------------------------------------\n",
    "mixture.posterior.cdf<-function(theta){\n",
    "    return(posterior.omega1*pbeta(theta,posterior.alpha1,posterior.beta1)+posterior.omega2*pbeta(theta,posterior.alpha2,posterior.beta2)+posterior.omega3*pbeta(theta,posterior.alpha3,posterior.beta3))\n",
    "}\n",
    "\n",
    "# Plot the posterior pdf and cdf -----------------------------------------------\n",
    "options(repr.plot.width=18,repr.plot.height=7)\n",
    "par(mfrow=c(1,2))\n",
    "\n",
    "u<-seq(0,1,length=1000)\n",
    "v<-mixture.posterior.pdf(u)\n",
    "plot(u,v,ylim=c(0,max(v)*1.05),xlim=c(-0.15,1.15),\n",
    "     ylab=\"P(θ=u|X=x)\",type=\"l\",lwd=3.5,col=\"blue\",main=sprintf(\"Posterior mixture pdf\"))\n",
    "lines(c(-0.15,0),c(0,0),lwd=3.5,col=\"blue\")\n",
    "lines(c(1,1.15),c(0,0),lwd=3.5,col=\"blue\")\n",
    "\n",
    "u<-seq(0,1,length=1000)\n",
    "v<-mixture.posterior.cdf(u)\n",
    "plot(u,v,ylim=c(0,max(v)*1.05),xlim=c(-0.15,1.15),\n",
    "     ylab=\"P(θ<u|X=x)\",type=\"l\",lwd=3.5,col=\"blue\",main=sprintf(\"Posterior mixture pdf\"))\n",
    "lines(c(-0.15,0),c(0,0),lwd=3.5,col=\"blue\")\n",
    "lines(c(1,1.15),c(0,0),lwd=3.5,col=\"blue\")"
   ]
  },
  {
   "cell_type": "markdown",
   "id": "4cfbf7d0",
   "metadata": {},
   "source": [
    "Using these equations, we are able to perform a **theoretical analysis of posterior values**.\n",
    "\n",
    "### MAP estimator of $\\theta$\n",
    "\n",
    "Direct calculation of the maximum value of a mixture distribution is not possible. Therefore, we will seek to determine the maximum value of the posterior probability density function."
   ]
  },
  {
   "cell_type": "code",
   "execution_count": null,
   "id": "0c1da536",
   "metadata": {
    "vscode": {
     "languageId": "r"
    }
   },
   "outputs": [
    {
     "name": "stdout",
     "output_type": "stream",
     "text": [
      "[1] \"Theoretical MAP: 0.323\"\n"
     ]
    },
    {
     "data": {
      "image/png": "[encoded data removed]",
      "text/plain": [
       "Plot with title “Posterior mixture pdf”"
      ]
     },
     "metadata": {},
     "output_type": "display_data"
    }
   ],
   "source": [
    "options(repr.plot.width=18,repr.plot.height=7)\n",
    "par(mfrow=c(1,2))\n",
    "u<-seq(0,1,length=1000)\n",
    "v<-mixture.posterior.pdf(u)\n",
    "\n",
    "Theor.MAP<-u[which.max(v)]\n",
    "\n",
    "plot(u,v,ylim=c(0,max(v)*1.05),xlim=c(-0.15,1.15),\n",
    "     ylab=\"P(θ=u|X=x)\",type=\"l\",lwd=3.5,col=\"blue\",main=sprintf(\"Posterior mixture pdf\"))\n",
    "lines(c(-0.15,0),c(0,0),lwd=3.5,col=\"blue\")\n",
    "lines(c(1,1.15),c(0,0),lwd=3.5,col=\"blue\")\n",
    "\n",
    "abline(v=Theor.MAP,col=\"DarkRed\",lwd=4)\n",
    "\n",
    "print(paste0(\"Theoretical MAP: \", round(Theor.MAP,3)))"
   ]
  },
  {
   "cell_type": "markdown",
   "id": "a5610e75",
   "metadata": {},
   "source": [
    "### Posterior expectation\n",
    "\n",
    "The expectation for a generic $Z \\sim Beta(\\alpha,\\beta)$ distribution is $\\frac{\\alpha}{\\alpha+\\beta}$\n",
    "\n",
    "In this case \n",
    "\n",
    "$$Z \\sim \\omega_1 Beta(\\alpha_1,\\beta_1) + \\omega_2 Beta(\\alpha_2,\\beta_2) + \\omega_3 Beta(\\alpha_3,\\beta_3)$$\n",
    "\n",
    "Then\n",
    "\n",
    "$$ E(Z) = \\int \\theta (\\omega_1 Beta(\\alpha_1,\\beta_1) + \\omega_2 Beta(\\alpha_2,\\beta_2) + \\omega_3 Beta(\\alpha_3,\\beta_3))d\\theta = \\sum_{i=1}^{3} \\omega_i \\int \\theta Beta(\\alpha_i,\\beta_i)d\\theta = \\sum_{i=1}^{3} \\omega_i E(Beta(\\alpha_i,\\beta_i)) $$"
   ]
  },
  {
   "cell_type": "code",
   "execution_count": null,
   "id": "1757ccd2",
   "metadata": {
    "vscode": {
     "languageId": "r"
    }
   },
   "outputs": [
    {
     "name": "stdout",
     "output_type": "stream",
     "text": [
      "[1] \"Theoretical Posterior expectation: 0.36\"\n"
     ]
    }
   ],
   "source": [
    "# Theoretical formulas posterior expectation -----------------------------------\n",
    "Theor.Posterior.Expectation1<-(posterior.alpha1)/(posterior.alpha1+posterior.beta1)\n",
    "Theor.Posterior.Expectation2<-(posterior.alpha2)/(posterior.alpha2+posterior.beta2)\n",
    "Theor.Posterior.Expectation3<-(posterior.alpha3)/(posterior.alpha3+posterior.beta3)\n",
    "Theor.Posterior.Expectation<-posterior.omega1*Theor.Posterior.Expectation1 + posterior.omega2*Theor.Posterior.Expectation2 + posterior.omega3*Theor.Posterior.Expectation3\n",
    "\n",
    "print(paste0(\"Theoretical Posterior expectation: \",round(Theor.Posterior.Expectation,3)))"
   ]
  },
  {
   "cell_type": "markdown",
   "id": "831b6df6",
   "metadata": {},
   "source": [
    "### Posterior Variance\n",
    "\n",
    "The variance for a generic $Z\\sim Beta(\\alpha,\\beta)$ is $\\text{var}(Z) = \\frac{\\alpha\\beta}{(\\alpha+\\beta)^2(\\alpha+\\beta+1)}$\n",
    "\n",
    "In this case, $Z\\sim \\omega_1 Beta(\\alpha_1,\\beta_1) + \\omega_2 Beta(\\alpha_2,\\beta_2) + \\omega_3 Beta(\\alpha_3,\\beta_3)$\n",
    "\n",
    "Let $\\theta^*$ be the expectation of $Z$ and $\\theta_i^*,\\;i=1,2,3$ the expectations of each $Beta(\\alpha_i,\\beta_i),\\;i=1,2,3$ respectively, then we have:\n",
    "\n",
    "$$ \\text{var}(Z) = \\int(\\theta-\\theta^*)\\sum_{i=1}^{3} \\omega_i Beta(\\alpha_i,\\beta_i)d\\theta = \\int\\sum_{i=1}^{3}(\\theta-\\theta^*+\\theta_i^*-\\theta_i^*)\\omega_i Beta(\\alpha_i,\\beta_i)d\\theta = \\int\\sum_{i=1}^{3}((\\theta-\\theta_i^*)^2+(\\theta_i^*-\\theta^*)^2+2(\\theta-\\theta_i^*)(\\theta_i^*-\\theta^*))\\omega_i Beta(\\alpha_i,\\beta_i)d\\theta = \\sum_{i=1}^{3} \\omega_i \\int (\\theta-\\theta_i^*)^2 Beta(\\alpha_i,\\beta_i)d\\theta + \\sum_{i=1}^{3} \\omega_i(\\theta_i^* - \\theta^*)^2 \\int Beta(\\alpha_i,\\beta_i)d\\theta + 2\\sum_{i=1}^{3}\\omega_i(\\theta_i^* - \\theta^*) \\int (\\theta-\\theta_i^*)Beta(\\alpha_i,\\beta_i)d\\theta = \\sum_{i=1}^{3}\\omega_i \\text{var}(Beta(\\alpha_i,\\beta_i)) + \\sum_{i=1}^{3}\\omega_i (\\theta_i^*-\\theta^*)^2 + 2 \\sum_{i=1}^{3}\\omega_i (\\theta_i^*-\\theta^*)(E(Beta(\\alpha_i,\\beta_i))-\\theta_i^*) = \\sum_{i=1}^{3}\\omega_i \\text{var}(Beta(\\alpha_i,\\beta_i)) + \\sum_{i=1}^{3}\\omega_i (\\theta_i^*-\\theta^*) $$"
   ]
  },
  {
   "cell_type": "code",
   "execution_count": null,
   "id": "8b0fd78c",
   "metadata": {
    "vscode": {
     "languageId": "r"
    }
   },
   "outputs": [
    {
     "name": "stdout",
     "output_type": "stream",
     "text": [
      "[1] \"Theoretical Posterior variance: 0.01\"\n"
     ]
    }
   ],
   "source": [
    "# Theoretical formulas posterior variance --------------------------------------\n",
    "Theor.Posterior.Variance1<-(posterior.alpha1*posterior.beta1)/((posterior.alpha1+posterior.beta1)^2*(posterior.alpha1+posterior.beta1+1))\n",
    "Theor.Posterior.Variance2<-(posterior.alpha2*posterior.beta2)/((posterior.alpha2+posterior.beta2)^2*(posterior.alpha2+posterior.beta2+1))\n",
    "Theor.Posterior.Variance3<-(posterior.alpha3*posterior.beta3)/((posterior.alpha3+posterior.beta3)^2*(posterior.alpha3+posterior.beta3+1))\n",
    "\n",
    "Theor.Posterior.Variance<-posterior.omega1*Theor.Posterior.Variance1 + posterior.omega2*Theor.Posterior.Variance2 + posterior.omega3*Theor.Posterior.Variance3 + \n",
    "  posterior.omega1*(Theor.Posterior.Expectation1-Theor.Posterior.Expectation)^2 + posterior.omega2*(Theor.Posterior.Expectation2-Theor.Posterior.Expectation)^2 + posterior.omega3*(Theor.Posterior.Expectation3-Theor.Posterior.Expectation)^2\n",
    "\n",
    "print(paste0(\"Theoretical Posterior variance: \",round(Theor.Posterior.Variance,3)))"
   ]
  },
  {
   "cell_type": "markdown",
   "id": "bd9efd56",
   "metadata": {},
   "source": [
    "## (2) Using independent random numbers (`rbeta()` functions, etc.)"
   ]
  },
  {
   "cell_type": "markdown",
   "id": "bf254daf",
   "metadata": {},
   "source": [
    "We now aim to produce an equivalent analysis utilizing R programming language and the independent random numbers through functions such as `rbeta` and `rbinom`.\n",
    "\n",
    "Initially, we shall specify the parameters of the problem to be addressed."
   ]
  },
  {
   "cell_type": "code",
   "execution_count": null,
   "id": "fe2398ff",
   "metadata": {
    "vscode": {
     "languageId": "r"
    }
   },
   "outputs": [],
   "source": [
    "sample_size <- 20000 # Number of experiments that are performed\n",
    "n_throws <- 10 # Number of times each coin is tossed (n)\n",
    "m_heads <- 3 # Number of heads observed (x.obs)"
   ]
  },
  {
   "cell_type": "markdown",
   "id": "b3a071ab",
   "metadata": {},
   "source": [
    "We will commence by generating 20,000 theta values by sampling from the distribution characterized by the problem.\n",
    "\n",
    "To accomplish this, we will initially randomly specify the beta distribution of each coin, assigning each distribution its corresponding probability.\n",
    "\n",
    "Next, utilizing the `rbeta` function, we will generate the corresponding theta value for each coin.\n",
    "\n",
    "To conclude the analysis, we will construct a histogram that represents the distribution of the generated theta values."
   ]
  },
  {
   "cell_type": "code",
   "execution_count": null,
   "id": "fb3cd5c1",
   "metadata": {
    "vscode": {
     "languageId": "r"
    }
   },
   "outputs": [
    {
     "data": {
      "image/png": "[encoded data removed]",
      "text/plain": [
       "Plot with title “Histogram of thetas”"
      ]
     },
     "metadata": {},
     "output_type": "display_data"
    }
   ],
   "source": [
    "# Assign from which theta distribution we will pick each coin\n",
    "source_beta <- sample(c(1,2,3), replace = TRUE, size = sample_size, prob=c(0.5, 0.2, 0.3))\n",
    "\n",
    "# Generate thetas values picking coins from the corresponding beta distribution\n",
    "thetas <- c(rbeta(sample_size,10,20)[source_beta == 1], \n",
    "            rbeta(sample_size,15,15)[source_beta == 2], \n",
    "            rbeta(sample_size,20,10)[source_beta == 3])\n",
    "\n",
    "# Simulated prior\n",
    "hist(thetas, breaks=50)"
   ]
  },
  {
   "cell_type": "markdown",
   "id": "052a35ed",
   "metadata": {},
   "source": [
    "Subsequently, we will proceed to flip each coin m times, resulting in a binomial distribution for each flip, with the corresponding theta value assigned to each coin being utilized as the probability.\n",
    "\n",
    "The following cell will produce a table comprising the frequency of heads acquired, in addition to the prior predictive probability mass function (pmf) for the simulation."
   ]
  },
  {
   "cell_type": "code",
   "execution_count": null,
   "id": "fa112041",
   "metadata": {
    "vscode": {
     "languageId": "r"
    }
   },
   "outputs": [
    {
     "name": "stdout",
     "output_type": "stream",
     "text": [
      "[1] \"Absolute frequency of m heads:\"\n"
     ]
    },
    {
     "data": {
      "text/plain": [
       "heads\n",
       "   0    1    2    3    4    5    6    7    8    9   10 \n",
       " 350 1170 2166 2920 3196 3020 2531 2299 1430  731  187 "
      ]
     },
     "metadata": {},
     "output_type": "display_data"
    },
    {
     "name": "stdout",
     "output_type": "stream",
     "text": [
      "[1] \"Relative frequency of m heads:\"\n"
     ]
    },
    {
     "data": {
      "text/plain": [
       "heads\n",
       "      0       1       2       3       4       5       6       7       8       9 \n",
       "0.01750 0.05850 0.10830 0.14600 0.15980 0.15100 0.12655 0.11495 0.07150 0.03655 \n",
       "     10 \n",
       "0.00935 "
      ]
     },
     "metadata": {},
     "output_type": "display_data"
    },
    {
     "data": {
      "image/png": "[encoded data removed]",
      "text/plain": [
       "Plot with title “Simulated prior predictive pmf”"
      ]
     },
     "metadata": {},
     "output_type": "display_data"
    }
   ],
   "source": [
    "# Number of heads in m trials\n",
    "heads <- rbinom(n = sample_size, size = n_throws, prob = thetas)\n",
    "\n",
    "# Absolute frequencies\n",
    "print(\"Absolute frequency of m heads:\")\n",
    "table(heads)\n",
    "# Relative frequencies. \n",
    "# The relative frequency of 3 heads is the X-marginal for X=m=3.\n",
    "# Obtaining m=3 heads is not the most likely outcome, based on this prior\n",
    "print(\"Relative frequency of m heads:\")\n",
    "f <- table(heads)/sum(table(heads))\n",
    "f\n",
    "matplot(x=names(f),y=f,type=\"h\",lwd=7, lty=1,\n",
    "        xlab=\"x\",ylab=\"Rel. Freqs..\",\n",
    "        main=\"Simulated prior predictive pmf\")"
   ]
  },
  {
   "cell_type": "markdown",
   "id": "436d723a",
   "metadata": {},
   "source": [
    "To further investigate the likelihood of obtaining three heads (m=3) given theta, we will isolate all instances in which three heads were flipped.\n",
    "\n",
    "Following this, we will create a histogram that represents the distribution of theta values that produced m=3 heads."
   ]
  },
  {
   "cell_type": "code",
   "execution_count": null,
   "id": "250efd73",
   "metadata": {
    "vscode": {
     "languageId": "r"
    }
   },
   "outputs": [
    {
     "name": "stdout",
     "output_type": "stream",
     "text": [
      "[1] \"Proportion of samples with m=3 heads: 0.146\"\n"
     ]
    },
    {
     "data": {
      "image/png": "[encoded data removed]",
      "text/plain": [
       "Plot with title “Histogram of thetas producing m heads”"
      ]
     },
     "metadata": {},
     "output_type": "display_data"
    }
   ],
   "source": [
    "# Cases in which we get m=3 heads\n",
    "m.heads.idx <- heads == m_heads\n",
    "\n",
    "# Proportion of cases in which we get m=3 heads\n",
    "print(paste0(\"Proportion of samples with m=3 heads: \", sum(m.heads.idx)/length(m.heads.idx)))\n",
    "\n",
    "# Thetas that have generated m=3 heads\n",
    "thetas.m.heads <- thetas[m.heads.idx]\n",
    "\n",
    "# The histogram shows the theta values generating m=3 heads\n",
    "hist(thetas.m.heads, breaks=50, freq=FALSE, main = \"Histogram of thetas producing m heads\")"
   ]
  },
  {
   "cell_type": "markdown",
   "id": "7466daa5",
   "metadata": {},
   "source": [
    "Based on the results of the preceding experiments, we can now perform an **analysis of the posterior quantities**.\n",
    "\n",
    "### Estimation of Maximum a Posteriori (MAP) for $\\theta$\n",
    "\n",
    "Utilizing the previous simulation, we can estimate the value of the MAP as the theta value that corresponds to the highest density."
   ]
  },
  {
   "cell_type": "code",
   "execution_count": null,
   "id": "ff58ca93",
   "metadata": {
    "vscode": {
     "languageId": "r"
    }
   },
   "outputs": [
    {
     "name": "stdout",
     "output_type": "stream",
     "text": [
      "[1] \"Simulated MAP: 0.329\"\n"
     ]
    },
    {
     "data": {
      "image/png": "[encoded data removed]",
      "text/plain": [
       "Plot with title “Histogram of thetas producing m=3 heads”"
      ]
     },
     "metadata": {},
     "output_type": "display_data"
    }
   ],
   "source": [
    "# Finding the maximum a posteriori (MAP)\n",
    "# Finding MAP\n",
    "thetas.m.heads.density <-density(thetas.m.heads)\n",
    "Sim.MAP <- thetas.m.heads.density$x[which.max(thetas.m.heads.density$y)]\n",
    "\n",
    "# Plot over histogram\n",
    "hist(thetas.m.heads, breaks=50, freq=FALSE, main=\"Histogram of thetas producing m=3 heads\")\n",
    "abline(v=Sim.MAP,col=\"DarkRed\",lwd=4)\n",
    "lines(thetas.m.heads.density$x,thetas.m.heads.density$y,lwd=2.5,col=\"DarkGreen\")\n",
    "text(0.42, 0.5, \"Simulated MAP\", col=\"DarkRed\")\n",
    "print(paste0(\"Simulated MAP: \", round(Sim.MAP,3)))"
   ]
  },
  {
   "cell_type": "markdown",
   "id": "1a13eec5",
   "metadata": {},
   "source": [
    "### Posterior Expectation\n",
    "As demonstrated in the following cell, we can use the results of the simulation to estimate the posterior expectation for theta."
   ]
  },
  {
   "cell_type": "code",
   "execution_count": null,
   "id": "42bd8671",
   "metadata": {
    "vscode": {
     "languageId": "r"
    }
   },
   "outputs": [
    {
     "name": "stdout",
     "output_type": "stream",
     "text": [
      "[1] \"Simulation based posterior expectation: 0.359\"\n"
     ]
    }
   ],
   "source": [
    "# Simulated Expectation \n",
    "print(paste0(\"Simulation based posterior expectation: \",round(mean(thetas.m.heads),3)))"
   ]
  },
  {
   "cell_type": "markdown",
   "id": "8b48b20f",
   "metadata": {},
   "source": [
    "### Posterior Variance\n",
    "The following cell illustrates how we can estimate the posterior variance for theta based on the results of the simulation."
   ]
  },
  {
   "cell_type": "code",
   "execution_count": null,
   "id": "c5c64550",
   "metadata": {
    "vscode": {
     "languageId": "r"
    }
   },
   "outputs": [],
   "source": [
    "# Simulated Variance\n",
    "print(paste0(\"Simulation based posterior variance: \",round(var(thetas.m.heads),3)))"
   ]
  },
  {
   "cell_type": "markdown",
   "id": "7c52f427",
   "metadata": {},
   "source": [
    "## (3) JAGS version"
   ]
  },
  {
   "cell_type": "markdown",
   "id": "510b6309",
   "metadata": {},
   "source": [
    "Now to conduct our analysis we will be utilizing a simulation model for Bayesian hierarchical models with Markov Chain Monte Carlo, called JAGS.\n",
    "\n",
    "Before proceeding with the analysis, we must ensure that the R2jags package is installed correctly and loaded into our notebook."
   ]
  },
  {
   "cell_type": "code",
   "execution_count": null,
   "id": "0e6d8798",
   "metadata": {
    "vscode": {
     "languageId": "r"
    }
   },
   "outputs": [
    {
     "name": "stderr",
     "output_type": "stream",
     "text": [
      "Loading required package: R2jags\n",
      "\n",
      "Warning message in library(package, lib.loc = lib.loc, character.only = TRUE, logical.return = TRUE, :\n",
      "“there is no package called ‘R2jags’”\n"
     ]
    }
   ],
   "source": [
    "# Loading R2jags\n",
    "require(R2jags)"
   ]
  },
  {
   "cell_type": "markdown",
   "id": "374e4c11",
   "metadata": {},
   "source": [
    "Once we have installed and loaded the R2jags package correctly, we can proceed to load our data into a list. This list will be used in our JAGS model for simulation and analysis."
   ]
  },
  {
   "cell_type": "code",
   "execution_count": null,
   "id": "1d3448d9",
   "metadata": {
    "vscode": {
     "languageId": "r"
    }
   },
   "outputs": [],
   "source": [
    "# List of parameters of our model, loaded before.\n",
    "Mix.01.dat<-list(a1=prior.alpha1,b1=prior.beta1,a2=prior.alpha2,b2=prior.beta2,b3=prior.beta3,a3=prior.alpha3\n",
    "                 ,omega1=prior.omega1,omega2=prior.omega2,omega3=prior.omega3,n=n,x=x.obs)\n",
    "\n",
    "# JAGS model\n",
    "cat(\n",
    "\"model\n",
    "    {\n",
    "    x~dbin(p,n)            \n",
    "    p<-theta[r]\n",
    "    r~dcat(g[])\n",
    "    theta[1]~dbeta(a1,b1) \n",
    "    theta[2]~dbeta(a2,b2)\n",
    "    theta[3]~dbeta(a3,b3)\n",
    "    g[1]<-omega1\n",
    "    g[2]<-omega2\n",
    "    g[3]<-omega3\n",
    "    }\"\n",
    "    ,file=\"Mix.01.jag\")"
   ]
  },
  {
   "cell_type": "markdown",
   "id": "7e79f416",
   "metadata": {},
   "source": [
    "We will now utilize our mixture1 data and JAGS model to conduct simulations for analysis. By default, we will use the following variables in our JAGS model:\n",
    "\n",
    "* Number of chains = 4\n",
    "* Number of iterations = 3500\n",
    "* Number of burn-in iterations = 500"
   ]
  },
  {
   "cell_type": "code",
   "execution_count": null,
   "id": "f3b0b4eb",
   "metadata": {
    "vscode": {
     "languageId": "r"
    }
   },
   "outputs": [
    {
     "ename": "ERROR",
     "evalue": "ignored",
     "output_type": "error",
     "traceback": [
      "Error in jags(data = Mix.01.dat, n.chains = 4, n.iter = 3500, n.burnin = 500, : could not find function \"jags\"\n",
      "Traceback:\n"
     ]
    }
   ],
   "source": [
    "Mix.01.m1<-jags(data=Mix.01.dat, n.chains=4,n.iter=3500,n.burnin=500, \n",
    "        parameters.to.save=c(\"theta\",\"p\"), model.file=\"Mix.01.jag\")"
   ]
  },
  {
   "cell_type": "code",
   "execution_count": null,
   "id": "2d64a196",
   "metadata": {
    "vscode": {
     "languageId": "r"
    }
   },
   "outputs": [
    {
     "ename": "ERROR",
     "evalue": "ignored",
     "output_type": "error",
     "traceback": [
      "Error in print(Mix.01.m1): object 'Mix.01.m1' not found\n",
      "Traceback:\n",
      "\n",
      "1. print(Mix.01.m1)"
     ]
    }
   ],
   "source": [
    "print(Mix.01.m1)"
   ]
  },
  {
   "cell_type": "markdown",
   "id": "54909a16",
   "metadata": {},
   "source": [
    "#### Traceplot to assess stationarity of the chains"
   ]
  },
  {
   "cell_type": "markdown",
   "id": "3e54231d",
   "metadata": {},
   "source": [
    "After conducting our simulations, we can display the traceplot. The traceplot shows a plot of iterations vs. sampled values for each variable in the chain, with a separate plot per variable."
   ]
  },
  {
   "cell_type": "code",
   "execution_count": null,
   "id": "e47e6a6c",
   "metadata": {
    "vscode": {
     "languageId": "r"
    }
   },
   "outputs": [],
   "source": [
    "options(repr.plot.width=15,repr.plot.height=5)\n",
    "traceplot(Mix.01.m1)"
   ]
  },
  {
   "cell_type": "markdown",
   "id": "2d341841",
   "metadata": {},
   "source": [
    "Once we have displayed the traceplot, we can obtain a sample and plot the Estimated Posterior Probability Density Function (PDF) of that sample."
   ]
  },
  {
   "cell_type": "code",
   "execution_count": null,
   "id": "b207cb4c",
   "metadata": {
    "vscode": {
     "languageId": "r"
    }
   },
   "outputs": [],
   "source": [
    "p.sample<-Mix.01.m1$BUGSoutput$sims.list$p"
   ]
  },
  {
   "cell_type": "code",
   "execution_count": null,
   "id": "03a6c3bd",
   "metadata": {
    "vscode": {
     "languageId": "r"
    }
   },
   "outputs": [],
   "source": [
    "# Posterior PDF plot\n",
    "p.sample.density<-density(p.sample)\n",
    "plot(p.sample.density,lwd=2.5,col=\"blue\",main=expression(paste(\"Estimated Posterior PDF\")),cex.main=1.6)"
   ]
  },
  {
   "cell_type": "markdown",
   "id": "dfc2552d",
   "metadata": {},
   "source": [
    "Based on the experiments conducted, we are now able to perform an **analysis of the posterior quantities**.\n",
    "\n",
    "### MAP estimator of $\\theta$\n",
    "\n",
    "Using the simulations performed earlier, we can estimate the MAP for $\\theta$ as the value with the highest density."
   ]
  },
  {
   "cell_type": "code",
   "execution_count": null,
   "id": "9bc8511d",
   "metadata": {
    "vscode": {
     "languageId": "r"
    }
   },
   "outputs": [],
   "source": [
    "# Finding the maximum a posteriori (MAP)\n",
    "# Finding MAP\n",
    "thetas.m.heads<-p.sample\n",
    "thetas.m.heads.density <-density(p.sample)\n",
    "Sim.MAP <- thetas.m.heads.density$x[which.max(thetas.m.heads.density$y)]\n",
    "\n",
    "# Plot over histogram\n",
    "hist(thetas.m.heads, breaks=50, freq=FALSE, main=\"Histogram of thetas producing m heads\")\n",
    "abline(v=Sim.MAP,col=\"DarkRed\",lwd=4)\n",
    "lines(thetas.m.heads.density$x,thetas.m.heads.density$y,lwd=2.5,col=\"DarkGreen\")\n",
    "text(0.42, 0.5, \"Simulated MAP\", col=\"DarkRed\")\n",
    "print(paste0(\"Simulated MAP: \", round(Sim.MAP,3)))"
   ]
  },
  {
   "cell_type": "markdown",
   "id": "a822fe94",
   "metadata": {},
   "source": [
    "### Posterior Expectation\n",
    "Once again, the simulations enable us to compute the posterior expectation, as demonstrated in the following cell."
   ]
  },
  {
   "cell_type": "code",
   "execution_count": null,
   "id": "1a88eb85",
   "metadata": {
    "vscode": {
     "languageId": "r"
    }
   },
   "outputs": [],
   "source": [
    "# Simulated Expectation \n",
    "print(paste0(\"Simulation based posterior expectation: \",round(mean(thetas.m.heads),3)))"
   ]
  },
  {
   "cell_type": "markdown",
   "id": "78df9439",
   "metadata": {},
   "source": [
    "### Posterior Variance\n",
    "In addition to the posterior expectation, we can also compute the posterior variance, as shown in the following cell."
   ]
  },
  {
   "cell_type": "code",
   "execution_count": null,
   "id": "83d49f17",
   "metadata": {
    "vscode": {
     "languageId": "r"
    }
   },
   "outputs": [],
   "source": [
    "# Simulated Variance\n",
    "print(paste0(\"Simulation based posterior variance: \",round(var(thetas.m.heads),3)))"
   ]
  },
  {
   "cell_type": "markdown",
   "id": "29fde5d9",
   "metadata": {},
   "source": [
    "## (4)$ {}^{\\star}$ Stan version"
   ]
  },
  {
   "cell_type": "markdown",
   "id": "edf79a26",
   "metadata": {},
   "source": [
    "Henceforth, it is presented generalization of the Stan model for 3-components mixture for:\n",
    "1. The posterior pdf, $\\theta$\n",
    "2. The posterior predictive pdf, $x$\n",
    "\n",
    "The main limitation is that Stan is unable to simulate discrete parameters, so we will generalize the trick presented at `Mixture.priors.01.Stan` notebook consisting in generating (on the spot) the index selecting which of both components in the mixture is chosen."
   ]
  },
  {
   "cell_type": "code",
   "execution_count": 7,
   "id": "57672e72",
   "metadata": {
    "vscode": {
     "languageId": "r"
    }
   },
   "outputs": [],
   "source": [
    "require(rstan)\n",
    "options(mc.cores = parallel::detectCores())\n",
    "rstan_options(auto_write = TRUE)"
   ]
  },
  {
   "cell_type": "markdown",
   "id": "102aecab",
   "metadata": {},
   "source": [
    "We saw that for 2 components one natural workaround is to define $u\\sim\\unifdist(0,1)$ and $\\gamma\\in(0,1)$, such that $u$ will be the unnamed index selecting which of both components in the mixture is chosen (because $\\prob(u<\\gamma)=\\gamma$). \n",
    "\n",
    "Now, for 3 components, we can define the same index but with 2 $\\gamma_i$ and we make $P$ depend on it with using the ternary infix conditional operator **twice**."
   ]
  },
  {
   "cell_type": "markdown",
   "id": "a01c708e",
   "metadata": {},
   "source": [
    "Namely, we pass the 2 $\\gamma_i$: ``real<lower=0,upper=1>  gamma1 ;`` and ``real<lower=0,upper=1>  gamma2 ;`` as data (the third one is determined since $\\gamma_1 + \\gamma_2 + \\gamma_3 = 1$), and then $P$ is one of the 3 $\\theta_i$ depending on the index. We can combine the conditional operator twice in the following fashion:\n",
    "\n",
    "``p = theta[u < gamma1 ? 1 : (u < gamma2 ? 2 : 3)] ;``"
   ]
  },
  {
   "cell_type": "markdown",
   "id": "f65ecac1",
   "metadata": {},
   "source": [
    "Below, the Stan model's code is defined. Note, it is the same code as ``Mixture.priors.01.Stan`` but with the former changes (and, of course, now $\\theta$ is passed as parameter as a **3-component** vector: ``vector<lower=0, upper=1>[3] theta;``, being ``theta[3] ~ beta(a3,b3);``):"
   ]
  },
  {
   "cell_type": "code",
   "execution_count": 11,
   "id": "3e9d9729",
   "metadata": {
    "vscode": {
     "languageId": "r"
    }
   },
   "outputs": [],
   "source": [
    "posterior.mixture.stan.model.code = \"\n",
    "    data{\n",
    "        int<lower=0> n ;\n",
    "        int<lower=0> x ; \n",
    "        real<lower=0> a1 ;\n",
    "        real<lower=0> b1 ;\n",
    "        real<lower=0> a2 ;\n",
    "        real<lower=0> b2 ;\n",
    "        real<lower=0> a3 ;\n",
    "        real<lower=0> b3 ;\n",
    "        real<lower=0,upper=1>  gamma1 ;\n",
    "        real<lower=0,upper=1>  gamma2 ;\n",
    "        }\n",
    "    parameters{\n",
    "        real<lower=0,upper=1>  u ;\n",
    "        vector<lower=0,upper=1>[3] theta ;\n",
    "        }\n",
    "    transformed parameters{                         \n",
    "        real<lower=0,upper=1> p ;                   \n",
    "        p = theta[u < gamma1 ? 1 : (u < gamma2 ? 2 : 3)] ;\n",
    "        }\n",
    "    model{\n",
    "        x ~ binomial(n,p) ;\n",
    "        theta[1]~beta(a1,b1) ;\n",
    "        theta[2]~beta(a2,b2) ;\n",
    "        theta[3]~beta(a3,b3) ;\n",
    "        u ~ uniform(0,1) ; \n",
    "        }\""
   ]
  },
  {
   "cell_type": "code",
   "execution_count": 13,
   "id": "77bd9781",
   "metadata": {
    "vscode": {
     "languageId": "r"
    }
   },
   "outputs": [],
   "source": [
    "posterior.mixture.stan.Dso <- stan_model(\n",
    "    model_code = posterior.mixture.stan.model.code) "
   ]
  },
  {
   "cell_type": "markdown",
   "id": "908305c2",
   "metadata": {},
   "source": [
    "And to perform the sampling, we load as data the prior knowledge and the same number of trials and observed x as those of `Mixture.priors.01.Stan`.\n",
    "\n",
    "Below, these are defined as list and, then,  the `sampling` executed:"
   ]
  },
  {
   "cell_type": "code",
   "execution_count": 18,
   "id": "6501ca47",
   "metadata": {
    "vscode": {
     "languageId": "r"
    }
   },
   "outputs": [],
   "source": [
    "n<-10  # number of trials\n",
    "x.obs<-3  # observed x\n",
    "\n",
    "posterior.mixture.stan.dat <- list(\n",
    "    a1=prior.alpha1,b1=prior.beta1,a2=prior.alpha2,b2=prior.beta2,\n",
    "    b3=prior.beta3,a3=prior.alpha3,gamma1=prior.gamma1,gamma2=prior.gamma2,\n",
    "    gamma3=prior.gamma3,n=n,x=x.obs)\n",
    "\n",
    "posterior.mixture.stan.fit <- sampling(\n",
    "    object=posterior.mixture.stan.Dso, data = posterior.mixture.stan.dat, \n",
    "    chains = 2, iter = 4000, warmup = 200, thin = 1)"
   ]
  },
  {
   "cell_type": "markdown",
   "id": "077d0b45",
   "metadata": {},
   "source": [
    "These are the obtained results:"
   ]
  },
  {
   "cell_type": "code",
   "execution_count": 19,
   "id": "01a07b86",
   "metadata": {
    "vscode": {
     "languageId": "r"
    }
   },
   "outputs": [
    {
     "data": {
      "text/html": [
       "<table class=\"dataframe\">\n",
       "<caption>A matrix: 6 × 10 of type dbl</caption>\n",
       "<thead>\n",
       "\t<tr><th></th><th scope=col>mean</th><th scope=col>se_mean</th><th scope=col>sd</th><th scope=col>2.5%</th><th scope=col>25%</th><th scope=col>50%</th><th scope=col>75%</th><th scope=col>97.5%</th><th scope=col>n_eff</th><th scope=col>Rhat</th></tr>\n",
       "</thead>\n",
       "<tbody>\n",
       "\t<tr><th scope=row>u</th><td>  0.301</td><td>0.005</td><td>0.215</td><td>  0.014</td><td>  0.134</td><td>  0.274</td><td>  0.416</td><td>  0.906</td><td>1882.632</td><td>1.000</td></tr>\n",
       "\t<tr><th scope=row>theta[1]</th><td>  0.325</td><td>0.001</td><td>0.077</td><td>  0.183</td><td>  0.270</td><td>  0.321</td><td>  0.376</td><td>  0.488</td><td>3547.053</td><td>1.000</td></tr>\n",
       "\t<tr><th scope=row>theta[2]</th><td>  0.502</td><td>0.001</td><td>0.088</td><td>  0.332</td><td>  0.441</td><td>  0.503</td><td>  0.562</td><td>  0.674</td><td>5222.710</td><td>1.000</td></tr>\n",
       "\t<tr><th scope=row>theta[3]</th><td>  0.659</td><td>0.002</td><td>0.089</td><td>  0.474</td><td>  0.599</td><td>  0.665</td><td>  0.723</td><td>  0.818</td><td>2904.221</td><td>1.001</td></tr>\n",
       "\t<tr><th scope=row>p</th><td>  0.351</td><td>0.002</td><td>0.109</td><td>  0.188</td><td>  0.277</td><td>  0.334</td><td>  0.400</td><td>  0.635</td><td>2937.696</td><td>1.000</td></tr>\n",
       "\t<tr><th scope=row>lp__</th><td>-68.912</td><td>0.037</td><td>1.686</td><td>-73.052</td><td>-69.773</td><td>-68.545</td><td>-67.664</td><td>-66.796</td><td>2111.486</td><td>1.000</td></tr>\n",
       "</tbody>\n",
       "</table>\n"
      ],
      "text/latex": [
       "A matrix: 6 × 10 of type dbl\n",
       "\\begin{tabular}{r|llllllllll}\n",
       "  & mean & se\\_mean & sd & 2.5\\% & 25\\% & 50\\% & 75\\% & 97.5\\% & n\\_eff & Rhat\\\\\n",
       "\\hline\n",
       "\tu &   0.301 & 0.005 & 0.215 &   0.014 &   0.134 &   0.274 &   0.416 &   0.906 & 1882.632 & 1.000\\\\\n",
       "\ttheta{[}1{]} &   0.325 & 0.001 & 0.077 &   0.183 &   0.270 &   0.321 &   0.376 &   0.488 & 3547.053 & 1.000\\\\\n",
       "\ttheta{[}2{]} &   0.502 & 0.001 & 0.088 &   0.332 &   0.441 &   0.503 &   0.562 &   0.674 & 5222.710 & 1.000\\\\\n",
       "\ttheta{[}3{]} &   0.659 & 0.002 & 0.089 &   0.474 &   0.599 &   0.665 &   0.723 &   0.818 & 2904.221 & 1.001\\\\\n",
       "\tp &   0.351 & 0.002 & 0.109 &   0.188 &   0.277 &   0.334 &   0.400 &   0.635 & 2937.696 & 1.000\\\\\n",
       "\tlp\\_\\_ & -68.912 & 0.037 & 1.686 & -73.052 & -69.773 & -68.545 & -67.664 & -66.796 & 2111.486 & 1.000\\\\\n",
       "\\end{tabular}\n"
      ],
      "text/markdown": [
       "\n",
       "A matrix: 6 × 10 of type dbl\n",
       "\n",
       "| <!--/--> | mean | se_mean | sd | 2.5% | 25% | 50% | 75% | 97.5% | n_eff | Rhat |\n",
       "|---|---|---|---|---|---|---|---|---|---|---|\n",
       "| u |   0.301 | 0.005 | 0.215 |   0.014 |   0.134 |   0.274 |   0.416 |   0.906 | 1882.632 | 1.000 |\n",
       "| theta[1] |   0.325 | 0.001 | 0.077 |   0.183 |   0.270 |   0.321 |   0.376 |   0.488 | 3547.053 | 1.000 |\n",
       "| theta[2] |   0.502 | 0.001 | 0.088 |   0.332 |   0.441 |   0.503 |   0.562 |   0.674 | 5222.710 | 1.000 |\n",
       "| theta[3] |   0.659 | 0.002 | 0.089 |   0.474 |   0.599 |   0.665 |   0.723 |   0.818 | 2904.221 | 1.001 |\n",
       "| p |   0.351 | 0.002 | 0.109 |   0.188 |   0.277 |   0.334 |   0.400 |   0.635 | 2937.696 | 1.000 |\n",
       "| lp__ | -68.912 | 0.037 | 1.686 | -73.052 | -69.773 | -68.545 | -67.664 | -66.796 | 2111.486 | 1.000 |\n",
       "\n"
      ],
      "text/plain": [
       "         mean    se_mean sd    2.5%    25%     50%     75%     97.5%   n_eff   \n",
       "u          0.301 0.005   0.215   0.014   0.134   0.274   0.416   0.906 1882.632\n",
       "theta[1]   0.325 0.001   0.077   0.183   0.270   0.321   0.376   0.488 3547.053\n",
       "theta[2]   0.502 0.001   0.088   0.332   0.441   0.503   0.562   0.674 5222.710\n",
       "theta[3]   0.659 0.002   0.089   0.474   0.599   0.665   0.723   0.818 2904.221\n",
       "p          0.351 0.002   0.109   0.188   0.277   0.334   0.400   0.635 2937.696\n",
       "lp__     -68.912 0.037   1.686 -73.052 -69.773 -68.545 -67.664 -66.796 2111.486\n",
       "         Rhat \n",
       "u        1.000\n",
       "theta[1] 1.000\n",
       "theta[2] 1.000\n",
       "theta[3] 1.001\n",
       "p        1.000\n",
       "lp__     1.000"
      ]
     },
     "metadata": {},
     "output_type": "display_data"
    }
   ],
   "source": [
    "posterior.mixture.stan.results <- summary(posterior.mixture.stan.fit)\n",
    "round(posterior.mixture.stan.results$summary, 3)"
   ]
  },
  {
   "cell_type": "markdown",
   "id": "9892d9b5",
   "metadata": {},
   "source": [
    "And similarly to exercise 1, we extract the parameters from the fit using the ``extract`` function:"
   ]
  },
  {
   "cell_type": "code",
   "execution_count": 21,
   "id": "4abf1216",
   "metadata": {
    "vscode": {
     "languageId": "r"
    }
   },
   "outputs": [],
   "source": [
    "p.posterior <- extract(posterior.mixture.stan.fit, 'p')\n",
    "p.posterior <- unlist(p.posterior, use.names=FALSE)\n",
    "\n",
    "theta1.posterior <- extract(posterior.mixture.stan.fit, 'theta[1]')\n",
    "theta1.posterior <- unlist(theta1.posterior, use.names=FALSE)\n",
    "theta2.posterior <- extract(posterior.mixture.stan.fit, 'theta[2]')\n",
    "theta2.posterior <- unlist(theta2.posterior, use.names=FALSE)\n",
    "theta3.posterior <- extract(posterior.mixture.stan.fit, 'theta[3]')\n",
    "theta3.posterior <- unlist(theta3.posterior, use.names=FALSE)"
   ]
  },
  {
   "cell_type": "markdown",
   "id": "d7f9177a",
   "metadata": {},
   "source": [
    "### Analysis of the posterior pdf simulations"
   ]
  },
  {
   "cell_type": "markdown",
   "id": "5ed1cd43",
   "metadata": {},
   "source": [
    "Finally, below we carry out the same analysis of the posterior pdfs' properties in the same fashion as performed in `Mixture.priors.01.Stan`"
   ]
  },
  {
   "cell_type": "code",
   "execution_count": 30,
   "id": "d9b2f11e",
   "metadata": {
    "vscode": {
     "languageId": "r"
    }
   },
   "outputs": [],
   "source": [
    "require(bayesplot, quietly=TRUE)\n",
    "params_ <- c(\"p\", \"theta[1]\", \"theta[2]\", \"theta[3]\")"
   ]
  },
  {
   "cell_type": "markdown",
   "id": "10f58ff2",
   "metadata": {},
   "source": [
    "#### Posterior credible interval "
   ]
  },
  {
   "cell_type": "code",
   "execution_count": 31,
   "id": "aa68a327",
   "metadata": {
    "vscode": {
     "languageId": "r"
    }
   },
   "outputs": [
    {
     "data": {
      "image/png": "[encoded data removed]",
      "text/plain": [
       "plot without title"
      ]
     },
     "metadata": {
      "image/png": {
       "height": 180,
       "width": 420
      }
     },
     "output_type": "display_data"
    }
   ],
   "source": [
    "color_scheme_set(\"green\")\n",
    "options(repr.plot.width=7,repr.plot.height=3)\n",
    "mcmc_intervals(posterior.mixture.stan.fit, pars = params_, prob=0.80, prob_outer=0.95)"
   ]
  },
  {
   "cell_type": "markdown",
   "id": "db9d95f3",
   "metadata": {},
   "source": [
    "#### Areas diagram"
   ]
  },
  {
   "cell_type": "code",
   "execution_count": 32,
   "id": "aeec8e17",
   "metadata": {
    "vscode": {
     "languageId": "r"
    }
   },
   "outputs": [
    {
     "data": {
      "image/png": "[encoded data removed]",
      "text/plain": [
       "plot without title"
      ]
     },
     "metadata": {
      "image/png": {
       "height": 420,
       "width": 420
      }
     },
     "output_type": "display_data"
    }
   ],
   "source": [
    "color_scheme_set(\"green\")\n",
    "options(repr.plot.width=7,repr.plot.height=7)\n",
    "mcmc_areas(posterior.mixture.stan.fit, pars = params_, prob=0.80,prob_outer=0.95)"
   ]
  },
  {
   "cell_type": "markdown",
   "id": "e497ca3d",
   "metadata": {},
   "source": [
    "#### Histogram"
   ]
  },
  {
   "cell_type": "code",
   "execution_count": 33,
   "id": "65d4fc85",
   "metadata": {
    "vscode": {
     "languageId": "r"
    }
   },
   "outputs": [
    {
     "data": {
      "image/png": "[encoded data removed]",
      "text/plain": [
       "plot without title"
      ]
     },
     "metadata": {
      "image/png": {
       "height": 300,
       "width": 900
      }
     },
     "output_type": "display_data"
    }
   ],
   "source": [
    "color_scheme_set(\"green\")\n",
    "options(repr.plot.width=15,repr.plot.height=5)\n",
    "mcmc_hist(posterior.mixture.stan.fit, pars = params_, binwidth=0.05)"
   ]
  },
  {
   "cell_type": "markdown",
   "id": "72b8de39",
   "metadata": {},
   "source": [
    "#### Density plot"
   ]
  },
  {
   "cell_type": "code",
   "execution_count": 34,
   "id": "289b15c8",
   "metadata": {
    "vscode": {
     "languageId": "r"
    }
   },
   "outputs": [
    {
     "data": {
      "image/png": "[encoded data removed]",
      "text/plain": [
       "plot without title"
      ]
     },
     "metadata": {
      "image/png": {
       "height": 300,
       "width": 900
      }
     },
     "output_type": "display_data"
    }
   ],
   "source": [
    "options(repr.plot.width=15,repr.plot.height=5)\n",
    "mcmc_dens(posterior.mixture.stan.fit, pars = params_)"
   ]
  },
  {
   "cell_type": "code",
   "execution_count": 35,
   "id": "387009b3",
   "metadata": {
    "vscode": {
     "languageId": "r"
    }
   },
   "outputs": [
    {
     "data": {
      "image/png": "[encoded data removed]",
      "text/plain": [
       "plot without title"
      ]
     },
     "metadata": {
      "image/png": {
       "height": 300,
       "width": 300
      }
     },
     "output_type": "display_data"
    }
   ],
   "source": [
    "color_scheme_set(\"green\")\n",
    "options(repr.plot.width=5,repr.plot.height=5)\n",
    "mcmc_dens_chains(posterior.mixture.stan.fit, pars = params_)"
   ]
  },
  {
   "cell_type": "markdown",
   "id": "f3ac7195",
   "metadata": {},
   "source": [
    "(Note that just 2 chains were used before because of CPU limitations)"
   ]
  },
  {
   "cell_type": "markdown",
   "id": "e4d0e438",
   "metadata": {},
   "source": [
    "#### Violin plot"
   ]
  },
  {
   "cell_type": "code",
   "execution_count": 36,
   "id": "8ddfb189",
   "metadata": {
    "vscode": {
     "languageId": "r"
    }
   },
   "outputs": [
    {
     "data": {
      "image/png": "[encoded data removed]",
      "text/plain": [
       "plot without title"
      ]
     },
     "metadata": {
      "image/png": {
       "height": 300,
       "width": 900
      }
     },
     "output_type": "display_data"
    }
   ],
   "source": [
    "color_scheme_set(\"green\")\n",
    "options(repr.plot.width=15,repr.plot.height=5)\n",
    "mcmc_violin(posterior.mixture.stan.fit, pars = params_)"
   ]
  },
  {
   "cell_type": "code",
   "execution_count": null,
   "id": "db6e8a4e",
   "metadata": {
    "vscode": {
     "languageId": "r"
    }
   },
   "outputs": [],
   "source": []
  }
 ],
 "metadata": {
  "kernelspec": {
   "display_name": "R",
   "language": "R",
   "name": "ir"
  },
  "language_info": {
   "codemirror_mode": "r",
   "file_extension": ".r",
   "mimetype": "text/x-r-source",
   "name": "R",
   "pygments_lexer": "r",
   "version": "4.2.3"
  }
 },
 "nbformat": 4,
 "nbformat_minor": 5
}
